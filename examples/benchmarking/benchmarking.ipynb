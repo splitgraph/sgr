{
 "cells": [
  {
   "cell_type": "markdown",
   "metadata": {},
   "source": [
    "## Synthetic Splitgraph benchmarks\n",
    "\n",
    "This notebook contains a series of benchmarks that generate some random data and test the time and space overhead of using\n",
    "Splitgraph to manage the data over PostgreSQL."
   ]
  },
  {
   "cell_type": "code",
   "execution_count": 1,
   "metadata": {},
   "outputs": [],
   "source": [
    "import itertools\n",
    "import random\n",
    "from random import getrandbits\n",
    "\n",
    "import pandas as pd\n",
    "import seaborn as sns\n",
    "\n",
    "from splitgraph.core.repository import Repository\n",
    "from splitgraph.core.common import Tracer\n",
    "from splitgraph.engine import ResultShape\n",
    "from splitgraph.core.types import TableColumn\n",
    "\n",
    "from psycopg2.sql import SQL, Identifier\n",
    "\n",
    "import matplotlib.ticker as mtick\n",
    "from matplotlib import pyplot as plt\n",
    "%matplotlib inline\n",
    "sns.set()\n",
    "plt.rcParams[\"figure.figsize\"] = (10,10)\n",
    "\n",
    "import logging\n",
    "logging.basicConfig(format='%(asctime)s %(message)s', level=logging.WARNING)\n",
    "\n",
    "BENCHMARK = Repository(\"splitgraph_test\", \"benchmark\")"
   ]
  },
  {
   "cell_type": "code",
   "execution_count": 2,
   "metadata": {},
   "outputs": [],
   "source": [
    "def generate_random_table(repository: Repository, table_name: str, size: int, create: bool = True,\n",
    "                         start_key: int = 0):\n",
    "    \"\"\"\n",
    "    Creates a table with an integer primary key, a string value and an integer value.\n",
    "    \"\"\"\n",
    "    if create:\n",
    "        repository.object_engine.create_table(\n",
    "            repository.to_schema(),\n",
    "            table_name,\n",
    "            [TableColumn(1, \"key\", \"integer\", True),\n",
    "             TableColumn(2, \"value_1\", \"varchar\", False),\n",
    "             TableColumn(3, \"value_2\", \"bigint\", False),\n",
    "            ],\n",
    "        )\n",
    "    repository.object_engine.run_sql_batch(\n",
    "        SQL(\"INSERT INTO {} VALUES (%s, %s, %s)\").format(Identifier(table_name)),\n",
    "        [(i, \"%0.2x\" % getrandbits(32), random.randrange(1, 100000)) for i in range(start_key, start_key + size)],\n",
    "        schema=repository.to_schema(),\n",
    "    )"
   ]
  },
  {
   "cell_type": "code",
   "execution_count": 3,
   "metadata": {},
   "outputs": [],
   "source": [
    "def benchmark_single(repository: Repository, size: int, query_iterations: int):\n",
    "    \"\"\"Perform various Splitgraph actions and record the time/space taken by them.\"\"\"\n",
    "    repository.delete()\n",
    "    repository.objects.cleanup()\n",
    "    repository.init()\n",
    "    \n",
    "    # We use the time taken by PostgreSQL to write the original table as a baseline.\n",
    "    tracer = Tracer()\n",
    "    generate_random_table(repository, table_name=\"test\", size=size)\n",
    "    tracer.log(\"table_creation\")\n",
    "    \n",
    "    # Commit the table. Since this is a new table, Splitgraph will chunk it up instead of\n",
    "    # performing change tracking.\n",
    "    \n",
    "    # We also want to target moderately large objects (each will be ~4MB in this case)\n",
    "    # to decrease the overhead of handling multiple tiny objects (default configuration produces\n",
    "    # objects of ~300KiB each).\n",
    "    head = repository.commit(chunk_size=250000)\n",
    "    tracer.log(\"commit_snap\")\n",
    "    \n",
    "    # Now change tracking is enabled. Do another set of writes to calculate its overhead.\n",
    "    generate_random_table(repository, table_name=\"test\", create=False, start_key=size, size=size)\n",
    "    tracer.log(\"insert_rows_change_tracking\")\n",
    "    \n",
    "    # Discard all changes and time how long the checkout takes.\n",
    "    repository.object_engine.discard_pending_changes(repository.to_schema())\n",
    "    repository.uncheckout()\n",
    "    \n",
    "    tracer.log(\"uncheckout\")\n",
    "    head.checkout()\n",
    "    tracer.log(\"checkout\")\n",
    "    \n",
    "    # Check the sizes taken by the Splitgraph table and the PostgreSQL table\n",
    "    postgres_size = repository.engine.run_sql(\"SELECT pg_total_relation_size(%s)\",\n",
    "                              ('\"' + repository.to_schema() + '\".test',),\n",
    "                              return_shape=ResultShape.ONE_ONE)\n",
    "    splitgraph_size = head.get_size()\n",
    "    \n",
    "    tracer.log(\"get_sizes\")\n",
    "    \n",
    "    # Test the time taken by some sample queries with PostgreSQL vs layered querying\n",
    "    # This is a very crude benchmark, since this is not real-world data or query load.\n",
    "    \n",
    "    # NB SQL injection, we trust the value of the `size` here but this shouldn't be run in anything serious.\n",
    "    queries = [(\"SELECT AVG(value_2) FROM test\", \"select_all\"),\n",
    "               (\"SELECT value_1 FROM test WHERE key = %s\" % (size // 2), \"select_by_key\"),\n",
    "               (\"SELECT AVG(value_2) FROM test WHERE key BETWEEN %s AND %s\" % (size // 4, size // 4 + 1000),\n",
    "               \"aggregate\"),\n",
    "               (\"SELECT 1 FROM test WHERE value_1 = '00000000'\", \"select_by_value\")]\n",
    "    \n",
    "    # First, run this with Postgres\n",
    "    for query, name in queries:\n",
    "        # Run the query once for warmup first\n",
    "        repository.run_sql(query)\n",
    "        for _ in range(query_iterations):\n",
    "            repository.run_sql(query)\n",
    "        tracer.log(name + \"_pg\")\n",
    "    \n",
    "    # Do an LQ checkout and try this again\n",
    "    head.checkout(layered=True)\n",
    "    tracer.log(\"lq_checkout\")\n",
    "    \n",
    "    for query, name in queries:\n",
    "        repository.run_sql(query)\n",
    "        for _ in range(query_iterations):\n",
    "            repository.run_sql(query)\n",
    "        tracer.log(name + \"_lq\")\n",
    "\n",
    "    return tracer, postgres_size, splitgraph_size"
   ]
  },
  {
   "cell_type": "code",
   "execution_count": 4,
   "metadata": {},
   "outputs": [],
   "source": [
    "def benchmark_multiple(repository: Repository, size: int, iterations: int):\n",
    "    \"\"\"Perform multiple benchmark runs and return the averages\"\"\"\n",
    "    result = []\n",
    "    \n",
    "    for _ in range(iterations):\n",
    "        tracer, pg_size, sg_size = benchmark_single(repository, size, query_iterations=iterations)\n",
    "        \n",
    "        durations = tracer.get_durations()\n",
    "        \n",
    "        subresult = []\n",
    "        \n",
    "        for e, ed in durations:\n",
    "            # divide query durations by the amount of times they ran in this iteration\n",
    "            if e.endswith(\"_pg\") or e.endswith(\"_lq\"):\n",
    "                ed = ed / float(iterations)\n",
    "                \n",
    "            subresult.append((e, ed))\n",
    "        \n",
    "        subresult.append((\"pg_size\", pg_size))\n",
    "        subresult.append((\"sg_size\", sg_size))\n",
    "    \n",
    "        result.append(subresult)\n",
    "    \n",
    "    # Average the result\n",
    "    result_avg = []\n",
    "    for rs in zip(*result):\n",
    "        result_name = rs[0][0]\n",
    "        result_values = [rr[1] for rr in rs]\n",
    "        \n",
    "        result_avg.append((result_name, sum(result_values) / float(len(result_values))))\n",
    "    \n",
    "    return result_avg"
   ]
  },
  {
   "cell_type": "code",
   "execution_count": 5,
   "metadata": {},
   "outputs": [
    {
     "name": "stdout",
     "output_type": "stream",
     "text": [
      "Running size=1000, iterations=10\n"
     ]
    },
    {
     "name": "stderr",
     "output_type": "stream",
     "text": [
      "100%|██████████| 1/1 [00:00<00:00,  5.17objs/s]\n",
      "100%|██████████| 1/1 [00:00<00:00,  5.24objs/s]\n",
      "100%|██████████| 1/1 [00:00<00:00,  5.29objs/s]\n",
      "100%|██████████| 1/1 [00:00<00:00,  7.78objs/s]\n",
      "100%|██████████| 1/1 [00:00<00:00,  6.86objs/s]\n",
      "100%|██████████| 1/1 [00:00<00:00,  8.01objs/s]\n",
      "100%|██████████| 1/1 [00:00<00:00,  4.69objs/s]\n",
      "100%|██████████| 1/1 [00:00<00:00,  6.75objs/s]\n",
      "100%|██████████| 1/1 [00:00<00:00,  6.42objs/s]\n",
      "100%|██████████| 1/1 [00:00<00:00,  6.60objs/s]\n"
     ]
    },
    {
     "name": "stdout",
     "output_type": "stream",
     "text": [
      "Running size=5000, iterations=10\n"
     ]
    },
    {
     "name": "stderr",
     "output_type": "stream",
     "text": [
      "100%|██████████| 1/1 [00:00<00:00,  4.03objs/s]\n",
      "100%|██████████| 1/1 [00:00<00:00,  3.92objs/s]\n",
      "100%|██████████| 1/1 [00:00<00:00,  3.11objs/s]\n",
      "100%|██████████| 1/1 [00:00<00:00,  4.16objs/s]\n",
      "100%|██████████| 1/1 [00:00<00:00,  3.76objs/s]\n",
      "100%|██████████| 1/1 [00:00<00:00,  3.37objs/s]\n",
      "100%|██████████| 1/1 [00:00<00:00,  3.21objs/s]\n",
      "100%|██████████| 1/1 [00:00<00:00,  4.22objs/s]\n",
      "100%|██████████| 1/1 [00:00<00:00,  2.34objs/s]\n",
      "100%|██████████| 1/1 [00:00<00:00,  3.72objs/s]\n"
     ]
    },
    {
     "name": "stdout",
     "output_type": "stream",
     "text": [
      "Running size=10000, iterations=10\n"
     ]
    },
    {
     "name": "stderr",
     "output_type": "stream",
     "text": [
      "100%|██████████| 1/1 [00:00<00:00,  2.71objs/s]\n",
      "100%|██████████| 1/1 [00:00<00:00,  2.32objs/s]\n",
      "100%|██████████| 1/1 [00:00<00:00,  2.33objs/s]\n",
      "100%|██████████| 1/1 [00:00<00:00,  2.40objs/s]\n",
      "100%|██████████| 1/1 [00:00<00:00,  2.77objs/s]\n",
      "100%|██████████| 1/1 [00:00<00:00,  2.73objs/s]\n",
      "100%|██████████| 1/1 [00:00<00:00,  2.12objs/s]\n",
      "100%|██████████| 1/1 [00:00<00:00,  2.73objs/s]\n",
      "100%|██████████| 1/1 [00:00<00:00,  2.61objs/s]\n",
      "100%|██████████| 1/1 [00:00<00:00,  2.58objs/s]\n"
     ]
    },
    {
     "name": "stdout",
     "output_type": "stream",
     "text": [
      "Running size=50000, iterations=3\n"
     ]
    },
    {
     "name": "stderr",
     "output_type": "stream",
     "text": [
      "100%|██████████| 1/1 [00:01<00:00,  1.84s/objs]\n",
      "100%|██████████| 1/1 [00:01<00:00,  1.58s/objs]\n",
      "100%|██████████| 1/1 [00:01<00:00,  1.50s/objs]\n"
     ]
    },
    {
     "name": "stdout",
     "output_type": "stream",
     "text": [
      "Running size=100000, iterations=3\n"
     ]
    },
    {
     "name": "stderr",
     "output_type": "stream",
     "text": [
      "100%|██████████| 1/1 [00:03<00:00,  3.08s/objs]\n",
      "100%|██████████| 1/1 [00:03<00:00,  3.05s/objs]\n",
      "100%|██████████| 1/1 [00:03<00:00,  3.14s/objs]\n"
     ]
    },
    {
     "name": "stdout",
     "output_type": "stream",
     "text": [
      "Running size=500000, iterations=3\n"
     ]
    },
    {
     "name": "stderr",
     "output_type": "stream",
     "text": [
      "100%|██████████| 2/2 [00:15<00:00,  7.69s/objs]\n",
      "100%|██████████| 2/2 [00:15<00:00,  7.60s/objs]\n",
      "100%|██████████| 2/2 [00:15<00:00,  7.61s/objs]\n"
     ]
    },
    {
     "name": "stdout",
     "output_type": "stream",
     "text": [
      "Running size=1000000, iterations=3\n"
     ]
    },
    {
     "name": "stderr",
     "output_type": "stream",
     "text": [
      "100%|██████████| 4/4 [00:30<00:00,  7.65s/objs]\n",
      "100%|██████████| 4/4 [00:34<00:00,  8.72s/objs]\n",
      "100%|██████████| 4/4 [00:32<00:00,  8.17s/objs]\n"
     ]
    },
    {
     "name": "stdout",
     "output_type": "stream",
     "text": [
      "Running size=5000000, iterations=1\n"
     ]
    },
    {
     "name": "stderr",
     "output_type": "stream",
     "text": [
      "100%|██████████| 20/20 [02:27<00:00,  7.39s/objs]\n"
     ]
    }
   ],
   "source": [
    "sizes_iterations = [\n",
    "    (1000, 10),\n",
    "    (5000, 10),\n",
    "    (10000, 10),\n",
    "    (50000, 3),\n",
    "    (100000, 3),\n",
    "    (500000, 3),\n",
    "    (1000000, 3),\n",
    "    (5000000, 1),\n",
    "]\n",
    "\n",
    "results = []\n",
    "\n",
    "for size, iterations in sizes_iterations:\n",
    "    print(f\"Running size={size}, iterations={iterations}\")\n",
    "    results.append(benchmark_multiple(BENCHMARK, size=size, iterations=iterations))"
   ]
  },
  {
   "cell_type": "code",
   "execution_count": 6,
   "metadata": {},
   "outputs": [
    {
     "data": {
      "text/plain": [
       "[[('table_creation', 0.0952132),\n",
       "  ('commit_snap', 0.42848939999999996),\n",
       "  ('insert_rows_change_tracking', 0.1786007),\n",
       "  ('uncheckout', 0.20017270000000004),\n",
       "  ('checkout', 0.3091069),\n",
       "  ('get_sizes', 0.0038325999999999994),\n",
       "  ('select_all_pg', 0.00140984),\n",
       "  ('select_by_key_pg', 0.00108811),\n",
       "  ('aggregate_pg', 0.0014673599999999996),\n",
       "  ('select_by_value_pg', 0.00146336),\n",
       "  ('lq_checkout', 0.6006358999999999),\n",
       "  ('select_all_lq', 0.16307687999999998),\n",
       "  ('select_by_key_lq', 0.12304691999999999),\n",
       "  ('aggregate_lq', 0.11860264000000001),\n",
       "  ('select_by_value_lq', 0.010249150000000002),\n",
       "  ('pg_size', 147456.0),\n",
       "  ('sg_size', 17163.1)],\n",
       " [('table_creation', 0.558927),\n",
       "  ('commit_snap', 0.5606918999999999),\n",
       "  ('insert_rows_change_tracking', 0.9574134000000001),\n",
       "  ('uncheckout', 0.22928099999999998),\n",
       "  ('checkout', 0.31565139999999997),\n",
       "  ('get_sizes', 0.0028606),\n",
       "  ('select_all_pg', 0.00306893),\n",
       "  ('select_by_key_pg', 0.0013706500000000002),\n",
       "  ('aggregate_pg', 0.0017420900000000004),\n",
       "  ('select_by_value_pg', 0.0028929900000000002),\n",
       "  ('lq_checkout', 0.5697431),\n",
       "  ('select_all_lq', 0.16854101999999999),\n",
       "  ('select_by_key_lq', 0.12496534000000001),\n",
       "  ('aggregate_lq', 0.12699141),\n",
       "  ('select_by_value_lq', 0.01013048),\n",
       "  ('pg_size', 442368.0),\n",
       "  ('sg_size', 83022.3)],\n",
       " [('table_creation', 1.0468499999999998),\n",
       "  ('commit_snap', 0.6700792000000001),\n",
       "  ('insert_rows_change_tracking', 1.8882953),\n",
       "  ('uncheckout', 0.24618679999999996),\n",
       "  ('checkout', 0.3461776),\n",
       "  ('get_sizes', 0.0028954),\n",
       "  ('select_all_pg', 0.004209919999999999),\n",
       "  ('select_by_key_pg', 0.00117182),\n",
       "  ('aggregate_pg', 0.0016579000000000003),\n",
       "  ('select_by_value_pg', 0.00459491),\n",
       "  ('lq_checkout', 0.5744109),\n",
       "  ('select_all_lq', 0.16945664),\n",
       "  ('select_by_key_lq', 0.12582547),\n",
       "  ('aggregate_lq', 0.12932037000000002),\n",
       "  ('select_by_value_lq', 0.01012865),\n",
       "  ('pg_size', 819200.0),\n",
       "  ('sg_size', 165337.5)],\n",
       " [('table_creation', 5.109521666666667),\n",
       "  ('commit_snap', 2.0071),\n",
       "  ('insert_rows_change_tracking', 9.359910666666666),\n",
       "  ('uncheckout', 0.4196256666666667),\n",
       "  ('checkout', 0.5020793333333333),\n",
       "  ('get_sizes', 0.003329),\n",
       "  ('select_all_pg', 0.02361066666666667),\n",
       "  ('select_by_key_pg', 0.001449),\n",
       "  ('aggregate_pg', 0.0020537777777777776),\n",
       "  ('select_by_value_pg', 0.022789),\n",
       "  ('lq_checkout', 0.6195116666666667),\n",
       "  ('select_all_lq', 0.4232805555555556),\n",
       "  ('select_by_key_lq', 0.2143248888888889),\n",
       "  ('aggregate_lq', 0.24005722222222223),\n",
       "  ('select_by_value_lq', 0.014188444444444443),\n",
       "  ('pg_size', 3801088.0),\n",
       "  ('sg_size', 825708.6666666666)],\n",
       " [('table_creation', 10.377328),\n",
       "  ('commit_snap', 3.6236273333333333),\n",
       "  ('insert_rows_change_tracking', 18.560227333333334),\n",
       "  ('uncheckout', 0.569665),\n",
       "  ('checkout', 0.6890823333333334),\n",
       "  ('get_sizes', 0.003786),\n",
       "  ('select_all_pg', 0.04206611111111111),\n",
       "  ('select_by_key_pg', 0.0015227777777777776),\n",
       "  ('aggregate_pg', 0.0023158888888888895),\n",
       "  ('select_by_value_pg', 0.04208722222222222),\n",
       "  ('lq_checkout', 0.6535936666666667),\n",
       "  ('select_all_lq', 0.477227),\n",
       "  ('select_by_key_lq', 0.24061511111111109),\n",
       "  ('aggregate_lq', 0.2551934444444444),\n",
       "  ('select_by_value_lq', 0.014159222222222224),\n",
       "  ('pg_size', 7528448.0),\n",
       "  ('sg_size', 1651593.0)],\n",
       " [('table_creation', 51.548123333333336),\n",
       "  ('commit_snap', 16.857365333333334),\n",
       "  ('insert_rows_change_tracking', 93.16167733333333),\n",
       "  ('uncheckout', 2.927604333333333),\n",
       "  ('checkout', 2.443903666666667),\n",
       "  ('get_sizes', 0.005301),\n",
       "  ('select_all_pg', 0.08689222222222222),\n",
       "  ('select_by_key_pg', 0.0011706666666666666),\n",
       "  ('aggregate_pg', 0.0016357777777777777),\n",
       "  ('select_by_value_pg', 0.07851022222222222),\n",
       "  ('lq_checkout', 0.8946526666666667),\n",
       "  ('select_all_lq', 0.8616317777777778),\n",
       "  ('select_by_key_lq', 0.2094382222222222),\n",
       "  ('aggregate_lq', 0.2616346666666667),\n",
       "  ('select_by_value_lq', 0.014058666666666665),\n",
       "  ('pg_size', 37396480.0),\n",
       "  ('sg_size', 8258716.666666667)],\n",
       " [('table_creation', 114.80886633333334),\n",
       "  ('commit_snap', 35.631583666666664),\n",
       "  ('insert_rows_change_tracking', 205.9575033333333),\n",
       "  ('uncheckout', 4.640968666666667),\n",
       "  ('checkout', 6.083459333333334),\n",
       "  ('get_sizes', 0.004553666666666667),\n",
       "  ('select_all_pg', 0.2913831111111111),\n",
       "  ('select_by_key_pg', 0.001631888888888889),\n",
       "  ('aggregate_pg', 0.028446111111111113),\n",
       "  ('select_by_value_pg', 0.160557),\n",
       "  ('lq_checkout', 2.273271),\n",
       "  ('select_all_lq', 1.4415122222222223),\n",
       "  ('select_by_key_lq', 0.2171291111111111),\n",
       "  ('aggregate_lq', 0.2622244444444444),\n",
       "  ('select_by_value_lq', 0.01437788888888889),\n",
       "  ('pg_size', 74727424.0),\n",
       "  ('sg_size', 16514798.333333334)],\n",
       " [('table_creation', 517.29236),\n",
       "  ('commit_snap', 166.750731),\n",
       "  ('insert_rows_change_tracking', 1009.442272),\n",
       "  ('uncheckout', 97.1851),\n",
       "  ('checkout', 78.308497),\n",
       "  ('get_sizes', 0.03964),\n",
       "  ('select_all_pg', 1.906777),\n",
       "  ('select_by_key_pg', 0.003004),\n",
       "  ('aggregate_pg', 0.068162),\n",
       "  ('select_by_value_pg', 1.193535),\n",
       "  ('lq_checkout', 36.408666),\n",
       "  ('select_all_lq', 9.613901),\n",
       "  ('select_by_key_lq', 0.420785),\n",
       "  ('aggregate_lq', 0.372552),\n",
       "  ('select_by_value_lq', 0.181071),\n",
       "  ('pg_size', 373334016.0),\n",
       "  ('sg_size', 82578437.0)]]"
      ]
     },
     "execution_count": 6,
     "metadata": {},
     "output_type": "execute_result"
    }
   ],
   "source": [
    "results"
   ]
  },
  {
   "cell_type": "markdown",
   "metadata": {},
   "source": [
    "Create some bar plots of the resulting data."
   ]
  },
  {
   "cell_type": "code",
   "execution_count": 7,
   "metadata": {},
   "outputs": [
    {
     "data": {
      "text/html": [
       "<div>\n",
       "<style scoped>\n",
       "    .dataframe tbody tr th:only-of-type {\n",
       "        vertical-align: middle;\n",
       "    }\n",
       "\n",
       "    .dataframe tbody tr th {\n",
       "        vertical-align: top;\n",
       "    }\n",
       "\n",
       "    .dataframe thead th {\n",
       "        text-align: right;\n",
       "    }\n",
       "</style>\n",
       "<table border=\"1\" class=\"dataframe\">\n",
       "  <thead>\n",
       "    <tr style=\"text-align: right;\">\n",
       "      <th></th>\n",
       "      <th>table_creation</th>\n",
       "      <th>commit_snap</th>\n",
       "      <th>insert_rows_change_tracking</th>\n",
       "      <th>uncheckout</th>\n",
       "      <th>checkout</th>\n",
       "      <th>get_sizes</th>\n",
       "      <th>select_all_pg</th>\n",
       "      <th>select_by_key_pg</th>\n",
       "      <th>aggregate_pg</th>\n",
       "      <th>select_by_value_pg</th>\n",
       "      <th>lq_checkout</th>\n",
       "      <th>select_all_lq</th>\n",
       "      <th>select_by_key_lq</th>\n",
       "      <th>aggregate_lq</th>\n",
       "      <th>select_by_value_lq</th>\n",
       "      <th>pg_size</th>\n",
       "      <th>sg_size</th>\n",
       "      <th>rows</th>\n",
       "    </tr>\n",
       "  </thead>\n",
       "  <tbody>\n",
       "    <tr>\n",
       "      <th>0</th>\n",
       "      <td>0.095213</td>\n",
       "      <td>0.428489</td>\n",
       "      <td>0.178601</td>\n",
       "      <td>0.200173</td>\n",
       "      <td>0.309107</td>\n",
       "      <td>0.003833</td>\n",
       "      <td>0.001410</td>\n",
       "      <td>0.001088</td>\n",
       "      <td>0.001467</td>\n",
       "      <td>0.001463</td>\n",
       "      <td>0.600636</td>\n",
       "      <td>0.163077</td>\n",
       "      <td>0.123047</td>\n",
       "      <td>0.118603</td>\n",
       "      <td>0.010249</td>\n",
       "      <td>147456.0</td>\n",
       "      <td>1.716310e+04</td>\n",
       "      <td>1000</td>\n",
       "    </tr>\n",
       "    <tr>\n",
       "      <th>1</th>\n",
       "      <td>0.558927</td>\n",
       "      <td>0.560692</td>\n",
       "      <td>0.957413</td>\n",
       "      <td>0.229281</td>\n",
       "      <td>0.315651</td>\n",
       "      <td>0.002861</td>\n",
       "      <td>0.003069</td>\n",
       "      <td>0.001371</td>\n",
       "      <td>0.001742</td>\n",
       "      <td>0.002893</td>\n",
       "      <td>0.569743</td>\n",
       "      <td>0.168541</td>\n",
       "      <td>0.124965</td>\n",
       "      <td>0.126991</td>\n",
       "      <td>0.010130</td>\n",
       "      <td>442368.0</td>\n",
       "      <td>8.302230e+04</td>\n",
       "      <td>5000</td>\n",
       "    </tr>\n",
       "    <tr>\n",
       "      <th>2</th>\n",
       "      <td>1.046850</td>\n",
       "      <td>0.670079</td>\n",
       "      <td>1.888295</td>\n",
       "      <td>0.246187</td>\n",
       "      <td>0.346178</td>\n",
       "      <td>0.002895</td>\n",
       "      <td>0.004210</td>\n",
       "      <td>0.001172</td>\n",
       "      <td>0.001658</td>\n",
       "      <td>0.004595</td>\n",
       "      <td>0.574411</td>\n",
       "      <td>0.169457</td>\n",
       "      <td>0.125825</td>\n",
       "      <td>0.129320</td>\n",
       "      <td>0.010129</td>\n",
       "      <td>819200.0</td>\n",
       "      <td>1.653375e+05</td>\n",
       "      <td>10000</td>\n",
       "    </tr>\n",
       "    <tr>\n",
       "      <th>3</th>\n",
       "      <td>5.109522</td>\n",
       "      <td>2.007100</td>\n",
       "      <td>9.359911</td>\n",
       "      <td>0.419626</td>\n",
       "      <td>0.502079</td>\n",
       "      <td>0.003329</td>\n",
       "      <td>0.023611</td>\n",
       "      <td>0.001449</td>\n",
       "      <td>0.002054</td>\n",
       "      <td>0.022789</td>\n",
       "      <td>0.619512</td>\n",
       "      <td>0.423281</td>\n",
       "      <td>0.214325</td>\n",
       "      <td>0.240057</td>\n",
       "      <td>0.014188</td>\n",
       "      <td>3801088.0</td>\n",
       "      <td>8.257087e+05</td>\n",
       "      <td>50000</td>\n",
       "    </tr>\n",
       "    <tr>\n",
       "      <th>4</th>\n",
       "      <td>10.377328</td>\n",
       "      <td>3.623627</td>\n",
       "      <td>18.560227</td>\n",
       "      <td>0.569665</td>\n",
       "      <td>0.689082</td>\n",
       "      <td>0.003786</td>\n",
       "      <td>0.042066</td>\n",
       "      <td>0.001523</td>\n",
       "      <td>0.002316</td>\n",
       "      <td>0.042087</td>\n",
       "      <td>0.653594</td>\n",
       "      <td>0.477227</td>\n",
       "      <td>0.240615</td>\n",
       "      <td>0.255193</td>\n",
       "      <td>0.014159</td>\n",
       "      <td>7528448.0</td>\n",
       "      <td>1.651593e+06</td>\n",
       "      <td>100000</td>\n",
       "    </tr>\n",
       "    <tr>\n",
       "      <th>5</th>\n",
       "      <td>51.548123</td>\n",
       "      <td>16.857365</td>\n",
       "      <td>93.161677</td>\n",
       "      <td>2.927604</td>\n",
       "      <td>2.443904</td>\n",
       "      <td>0.005301</td>\n",
       "      <td>0.086892</td>\n",
       "      <td>0.001171</td>\n",
       "      <td>0.001636</td>\n",
       "      <td>0.078510</td>\n",
       "      <td>0.894653</td>\n",
       "      <td>0.861632</td>\n",
       "      <td>0.209438</td>\n",
       "      <td>0.261635</td>\n",
       "      <td>0.014059</td>\n",
       "      <td>37396480.0</td>\n",
       "      <td>8.258717e+06</td>\n",
       "      <td>500000</td>\n",
       "    </tr>\n",
       "    <tr>\n",
       "      <th>6</th>\n",
       "      <td>114.808866</td>\n",
       "      <td>35.631584</td>\n",
       "      <td>205.957503</td>\n",
       "      <td>4.640969</td>\n",
       "      <td>6.083459</td>\n",
       "      <td>0.004554</td>\n",
       "      <td>0.291383</td>\n",
       "      <td>0.001632</td>\n",
       "      <td>0.028446</td>\n",
       "      <td>0.160557</td>\n",
       "      <td>2.273271</td>\n",
       "      <td>1.441512</td>\n",
       "      <td>0.217129</td>\n",
       "      <td>0.262224</td>\n",
       "      <td>0.014378</td>\n",
       "      <td>74727424.0</td>\n",
       "      <td>1.651480e+07</td>\n",
       "      <td>1000000</td>\n",
       "    </tr>\n",
       "    <tr>\n",
       "      <th>7</th>\n",
       "      <td>517.292360</td>\n",
       "      <td>166.750731</td>\n",
       "      <td>1009.442272</td>\n",
       "      <td>97.185100</td>\n",
       "      <td>78.308497</td>\n",
       "      <td>0.039640</td>\n",
       "      <td>1.906777</td>\n",
       "      <td>0.003004</td>\n",
       "      <td>0.068162</td>\n",
       "      <td>1.193535</td>\n",
       "      <td>36.408666</td>\n",
       "      <td>9.613901</td>\n",
       "      <td>0.420785</td>\n",
       "      <td>0.372552</td>\n",
       "      <td>0.181071</td>\n",
       "      <td>373334016.0</td>\n",
       "      <td>8.257844e+07</td>\n",
       "      <td>5000000</td>\n",
       "    </tr>\n",
       "  </tbody>\n",
       "</table>\n",
       "</div>"
      ],
      "text/plain": [
       "   table_creation  commit_snap  insert_rows_change_tracking  uncheckout  \\\n",
       "0        0.095213     0.428489                     0.178601    0.200173   \n",
       "1        0.558927     0.560692                     0.957413    0.229281   \n",
       "2        1.046850     0.670079                     1.888295    0.246187   \n",
       "3        5.109522     2.007100                     9.359911    0.419626   \n",
       "4       10.377328     3.623627                    18.560227    0.569665   \n",
       "5       51.548123    16.857365                    93.161677    2.927604   \n",
       "6      114.808866    35.631584                   205.957503    4.640969   \n",
       "7      517.292360   166.750731                  1009.442272   97.185100   \n",
       "\n",
       "    checkout  get_sizes  select_all_pg  select_by_key_pg  aggregate_pg  \\\n",
       "0   0.309107   0.003833       0.001410          0.001088      0.001467   \n",
       "1   0.315651   0.002861       0.003069          0.001371      0.001742   \n",
       "2   0.346178   0.002895       0.004210          0.001172      0.001658   \n",
       "3   0.502079   0.003329       0.023611          0.001449      0.002054   \n",
       "4   0.689082   0.003786       0.042066          0.001523      0.002316   \n",
       "5   2.443904   0.005301       0.086892          0.001171      0.001636   \n",
       "6   6.083459   0.004554       0.291383          0.001632      0.028446   \n",
       "7  78.308497   0.039640       1.906777          0.003004      0.068162   \n",
       "\n",
       "   select_by_value_pg  lq_checkout  select_all_lq  select_by_key_lq  \\\n",
       "0            0.001463     0.600636       0.163077          0.123047   \n",
       "1            0.002893     0.569743       0.168541          0.124965   \n",
       "2            0.004595     0.574411       0.169457          0.125825   \n",
       "3            0.022789     0.619512       0.423281          0.214325   \n",
       "4            0.042087     0.653594       0.477227          0.240615   \n",
       "5            0.078510     0.894653       0.861632          0.209438   \n",
       "6            0.160557     2.273271       1.441512          0.217129   \n",
       "7            1.193535    36.408666       9.613901          0.420785   \n",
       "\n",
       "   aggregate_lq  select_by_value_lq      pg_size       sg_size     rows  \n",
       "0      0.118603            0.010249     147456.0  1.716310e+04     1000  \n",
       "1      0.126991            0.010130     442368.0  8.302230e+04     5000  \n",
       "2      0.129320            0.010129     819200.0  1.653375e+05    10000  \n",
       "3      0.240057            0.014188    3801088.0  8.257087e+05    50000  \n",
       "4      0.255193            0.014159    7528448.0  1.651593e+06   100000  \n",
       "5      0.261635            0.014059   37396480.0  8.258717e+06   500000  \n",
       "6      0.262224            0.014378   74727424.0  1.651480e+07  1000000  \n",
       "7      0.372552            0.181071  373334016.0  8.257844e+07  5000000  "
      ]
     },
     "execution_count": 7,
     "metadata": {},
     "output_type": "execute_result"
    }
   ],
   "source": [
    "results_data = [{**dict(r), \"rows\": si[0]} for r, si in zip(results, sizes_iterations)]\n",
    "results_df = pd.DataFrame(results_data)\n",
    "results_df"
   ]
  },
  {
   "cell_type": "code",
   "execution_count": 8,
   "metadata": {},
   "outputs": [
    {
     "data": {
      "text/plain": [
       "Text(0.5, 1.0, 'Overhead of common Splitgraph operations\\nvs time taken by Postgres to write the data')"
      ]
     },
     "execution_count": 8,
     "metadata": {},
     "output_type": "execute_result"
    },
    {
     "data": {
      "image/png": "[encoded data removed]",
      "text/plain": [
       "<Figure size 948.6x360 with 1 Axes>"
      ]
     },
     "metadata": {},
     "output_type": "display_data"
    },
    {
     "data": {
      "image/png": "[encoded data removed]",
      "text/plain": [
       "<Figure size 948.6x360 with 1 Axes>"
      ]
     },
     "metadata": {},
     "output_type": "display_data"
    }
   ],
   "source": [
    "# Plot actual times\n",
    "time_df = pd.DataFrame()\n",
    "time_df[\"Rows\"] = results_df[\"rows\"]\n",
    "time_df[\"Original write (PG)\"] = results_df[\"table_creation\"]\n",
    "time_df[\"Commit image\"] = results_df[\"commit_snap\"]\n",
    "time_df[\"Insert data (with change tracking)\"] = results_df[\"insert_rows_change_tracking\"]\n",
    "time_df[\"Checkout\"] = results_df[\"checkout\"]\n",
    "\n",
    "time_df = pd.melt(time_df, id_vars=\"Rows\", var_name=\"Workload\", value_name=\"Time, s\")\n",
    "\n",
    "sns.catplot(data=time_df, x=\"Rows\", y=\"Time, s\", \n",
    "                 hue=\"Workload\", kind=\"bar\", height=5, aspect=2)\n",
    "plt.yscale(\"log\")\n",
    "plt.title(\"Time taken by common Splitgraph operations\")\n",
    "\n",
    "# Calculate the time overhead relative to Postgres\n",
    "overhead_df = pd.DataFrame()\n",
    "overhead_df[\"Rows\"] = results_df[\"rows\"]\n",
    "overhead_df[\"Commit image\"] = (results_df[\"commit_snap\"] / results_df[\"table_creation\"] - 1) * 100\n",
    "overhead_df[\"Insert data (with change tracking)\"] = (results_df[\"insert_rows_change_tracking\"] / results_df[\"table_creation\"] - 1) * 100\n",
    "overhead_df[\"Checkout\"] = (results_df[\"checkout\"] / results_df[\"table_creation\"] - 1) * 100\n",
    "\n",
    "overhead_df = pd.melt(overhead_df, id_vars=\"Rows\", var_name=\"Workload\", value_name=\"Overhead vs Postgres\")\n",
    "\n",
    "sns.catplot(data=overhead_df, x=\"Rows\", y=\"Overhead vs Postgres\", \n",
    "                 hue=\"Workload\", kind=\"bar\", height=5, aspect=2)\n",
    "plt.gca().yaxis.set_major_formatter(mtick.PercentFormatter())\n",
    "plt.title(\"Overhead of common Splitgraph operations\\nvs time taken by Postgres to write the data\")"
   ]
  },
  {
   "cell_type": "markdown",
   "metadata": {},
   "source": [
    "For decently large (more than 1000 rows) tables, Splitgraph's commits and checkouts take a considerably smaller time than writing the initial table. This is for two reasons:\n",
    "\n",
    "  * Writing the original table also takes into account the time to write and parse the INSERT statements. Splitgraph's commits and checkouts defer to Postgres for moving data around and don't actually inspect the data (apart from object hashing), avoiding this step.\n",
    "  * Postgres' WAL and durability guarantees were enabled when the data was originally written. At commit time, writes to Splitgraph's `cstore_fdw` object files don't get reflected in the WAL (since `cstore_fdw` is implemented as a foreign table). Since the data is already in a PostgreSQL table, this is an acceptable tradeoff -- if the commit gets abruptly terminated, Splitgraph will restart it from scratch. Splitgraph itself doesn't commit its own metadata writes to PostgreSQL until after the image has been created.\n",
    "\n",
    "Inserting data to a table with change tracking enabled incurs a slighly smaller than 1x overhead. This is because besides the actual target table, all writes have to be recorded to the pending changes table by the audit trigger."
   ]
  },
  {
   "cell_type": "code",
   "execution_count": 9,
   "metadata": {},
   "outputs": [
    {
     "data": {
      "text/plain": [
       "Text(0.5, 1.0, 'Splitgraph vs PostgreSQL relative data sizes')"
      ]
     },
     "execution_count": 9,
     "metadata": {},
     "output_type": "execute_result"
    },
    {
     "data": {
      "image/png": "[encoded data removed]",
      "text/plain": [
       "<Figure size 822.725x360 with 1 Axes>"
      ]
     },
     "metadata": {},
     "output_type": "display_data"
    },
    {
     "data": {
      "image/png": "[encoded data removed]",
      "text/plain": [
       "<Figure size 720x360 with 1 Axes>"
      ]
     },
     "metadata": {},
     "output_type": "display_data"
    }
   ],
   "source": [
    "# Plot image sizes\n",
    "size_df = pd.DataFrame()\n",
    "size_df[\"Rows\"] = results_df[\"rows\"]\n",
    "size_df[\"PostgreSQL\"] = results_df[\"pg_size\"] / 1024. / 1024.\n",
    "size_df[\"Splitgraph\"] = results_df[\"sg_size\"] / 1024. / 1024.\n",
    "\n",
    "size_df = pd.melt(size_df, id_vars=\"Rows\", var_name=\"Storage\", value_name=\"Image size, MB\")\n",
    "\n",
    "sns.catplot(data=size_df, x=\"Rows\", y=\"Image size, MB\", \n",
    "                 hue=\"Storage\", kind=\"bar\", height=5, aspect=2)\n",
    "plt.yscale(\"log\")\n",
    "plt.title(\"Splitgraph vs PostgreSQL data size comparison\")\n",
    "\n",
    "# Plot image size overhead\n",
    "size_df = pd.DataFrame()\n",
    "size_df[\"Rows\"] = results_df[\"rows\"]\n",
    "size_df[\"Splitgraph size improvement\"] = (1 - results_df[\"sg_size\"] / results_df[\"pg_size\"]) * 100\n",
    "\n",
    "sns.catplot(data=size_df, x=\"Rows\", y=\"Splitgraph size improvement\", kind=\"bar\", height=5, aspect=2)\n",
    "plt.yscale(\"linear\")\n",
    "plt.gca().yaxis.set_major_formatter(mtick.PercentFormatter())\n",
    "plt.title(\"Splitgraph vs PostgreSQL relative data sizes\")"
   ]
  },
  {
   "cell_type": "markdown",
   "metadata": {},
   "source": [
    "Splitgraph is much more efficient than PostgreSQL at storing data: in this case, Splitgraph images take up 5x less space than PostgreSQL tables. This is because Splitgraph uses [`cstore_fdw`](https://github.com/citusdata/cstore_fdw), a columnar store extension for PostgreSQL. Data stored in such way compresses better, since it's more homogeneous."
   ]
  },
  {
   "cell_type": "code",
   "execution_count": 10,
   "metadata": {},
   "outputs": [
    {
     "data": {
      "image/png": "[encoded data removed]",
      "text/plain": [
       "<Figure size 827.8x576 with 4 Axes>"
      ]
     },
     "metadata": {},
     "output_type": "display_data"
    }
   ],
   "source": [
    "# Plot query performance.\n",
    "query_df = pd.DataFrame()\n",
    "query_df[\"Rows\"] = results_df[\"rows\"]\n",
    "for query_short, query_name in [(\"select_all\", \"Aggregate all\"), \n",
    "                                (\"select_by_key\", \"SELECT by primary key\"),\n",
    "                                (\"aggregate\", \"Aggregate region\"),\n",
    "                                (\"select_by_value\", \"SELECT by value\")]:\n",
    "    query_df[f\"{query_name} (PG)\"] = results_df[f\"{query_short}_pg\"]\n",
    "    query_df[f\"{query_name} (LQ)\"] = results_df[f\"{query_short}_lq\"]\n",
    "\n",
    "query_df = pd.melt(query_df, id_vars=[\"Rows\"], var_name=\"Query type\", value_name=\"Time, s\")\n",
    "query_df[\"Method\"] = query_df[\"Query type\"].apply(lambda q: \"PostgreSQL table\" if \"(PG)\" in q else \"Layered querying\")\n",
    "query_df[\"Query type\"] = query_df[\"Query type\"].apply(lambda q: q.replace(\" (PG)\", \"\").replace(\" (LQ)\", \"\"))\n",
    "\n",
    "c = sns.catplot(data=query_df, x=\"Rows\", y=\"Time, s\", \n",
    "            hue=\"Method\", col=\"Query type\", kind=\"bar\",\n",
    "            height=4, aspect=1.2, col_wrap=2)\n",
    "plt.yscale(\"log\")\n",
    "plt.subplots_adjust(top=0.90)\n",
    "plt.suptitle(\"Performance of layered querying vs native PostgreSQL\")\n",
    "for axes in c.axes.flat:\n",
    "    axes.set_xticklabels(axes.get_xticklabels(), rotation=45, horizontalalignment=\"right\")"
   ]
  },
  {
   "cell_type": "markdown",
   "metadata": {},
   "source": [
    "Splitgraph images can be queried in two ways: by checking them out into native PostgreSQL tables or by\n",
    "querying them through a foreign data wrapper that presents itself to applications as a normal table (layered querying). These two methods have different tradeoffs and cover different use cases.\n",
    "\n",
    "The query types here are:\n",
    "\n",
    "  * Aggregate all: `SELECT AVG(value_2) FROM test`\n",
    "  * SELECT by PK: `SELECT value_1 FROM test WHERE key = single_value`\n",
    "  * Aggregate region: `SELECT AVG(value_2) FROM test WHERE key BETWEEN [a range of 1000 elements]`\n",
    "  * SELECT by value: `SELECT 1 FROM test WHERE value_1 = '00000000'`\n",
    "\n",
    "Layered querying usually incurs a fixed latency overhead, unlike PostgreSQL that can give an answer in less than a millisecond. This is because it's designed for querying huge datasets that are partially located on a remote machine: the LQ planner needs to consult Splitgraph's metadata store first to determine which objects need to be downloaded. This has an advantage over checking tables out: you don't need to download the whole dataset to run a query on it.\n",
    "\n",
    "For a lot of use cases, querying native PostgreSQL tables is going to be the fastest in terms of performance, assuming you're OK with paying the one-off cost of checking them out and creating required indexes.\n",
    "\n",
    "However, there is one notable outlier here: the \"SELECT by value\" query. Since it's not indexed in PostgreSQL, it forces a full table scan. Layered querying can use the Splitgraph range index on the objects' metadata to determine that none of the objects have this value and discard all of them."
   ]
  }
 ],
 "metadata": {
  "kernelspec": {
   "display_name": "Python 3",
   "language": "python",
   "name": "python3"
  },
  "language_info": {
   "codemirror_mode": {
    "name": "ipython",
    "version": 3
   },
   "file_extension": ".py",
   "mimetype": "text/x-python",
   "name": "python",
   "nbconvert_exporter": "python",
   "pygments_lexer": "ipython3",
   "version": "3.8.1"
  }
 },
 "nbformat": 4,
 "nbformat_minor": 2
}
