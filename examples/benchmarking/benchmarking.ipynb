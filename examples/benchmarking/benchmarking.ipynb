{
 "cells": [
  {
   "cell_type": "markdown",
   "metadata": {},
   "source": [
    "## Synthetic Splitgraph benchmarks\n",
    "\n",
    "This notebook contains a series of benchmarks that generate some random data and test the time and space overhead of using\n",
    "Splitgraph to manage the data over PostgreSQL."
   ]
  },
  {
   "cell_type": "code",
   "execution_count": 1,
   "metadata": {},
   "outputs": [],
   "source": [
    "import itertools\n",
    "import random\n",
    "from random import getrandbits\n",
    "\n",
    "import pandas as pd\n",
    "import seaborn as sns\n",
    "\n",
    "from splitgraph.core.repository import Repository\n",
    "from splitgraph.core.common import Tracer\n",
    "from splitgraph.engine import ResultShape\n",
    "from splitgraph.core.types import TableColumn\n",
    "\n",
    "from psycopg2.sql import SQL, Identifier\n",
    "\n",
    "import matplotlib.ticker as mtick\n",
    "from matplotlib import pyplot as plt\n",
    "%matplotlib inline\n",
    "sns.set()\n",
    "plt.rcParams[\"figure.figsize\"] = (10,10)\n",
    "\n",
    "import logging\n",
    "logging.basicConfig(format='%(asctime)s %(message)s', level=logging.WARNING)\n",
    "\n",
    "BENCHMARK = Repository(\"splitgraph_test\", \"benchmark\")"
   ]
  },
  {
   "cell_type": "code",
   "execution_count": 2,
   "metadata": {},
   "outputs": [],
   "source": [
    "def generate_random_table(repository: Repository, table_name: str, size: int, create: bool = True,\n",
    "                         start_key: int = 0):\n",
    "    \"\"\"\n",
    "    Creates a table with an integer primary key, a string value and an integer value.\n",
    "    \"\"\"\n",
    "    if create:\n",
    "        repository.object_engine.create_table(\n",
    "            repository.to_schema(),\n",
    "            table_name,\n",
    "            [TableColumn(1, \"key\", \"integer\", True),\n",
    "             TableColumn(2, \"value_1\", \"varchar\", False),\n",
    "             TableColumn(3, \"value_2\", \"bigint\", False),\n",
    "            ],\n",
    "        )\n",
    "    repository.object_engine.run_sql_batch(\n",
    "        SQL(\"INSERT INTO {} VALUES (%s, %s, %s)\").format(Identifier(table_name)),\n",
    "        [(i, \"%0.2x\" % getrandbits(32), random.randrange(1, 100000)) for i in range(start_key, start_key + size)],\n",
    "        schema=repository.to_schema(),\n",
    "    )"
   ]
  },
  {
   "cell_type": "code",
   "execution_count": 3,
   "metadata": {},
   "outputs": [],
   "source": [
    "def benchmark_single(repository: Repository, size: int, query_iterations: int):\n",
    "    \"\"\"Perform various Splitgraph actions and record the time/space taken by them.\"\"\"\n",
    "    repository.delete()\n",
    "    repository.objects.cleanup()\n",
    "    repository.init()\n",
    "    \n",
    "    # We use the time taken by PostgreSQL to write the original table as a baseline.\n",
    "    tracer = Tracer()\n",
    "    generate_random_table(repository, table_name=\"test\", size=size)\n",
    "    tracer.log(\"table_creation\")\n",
    "    \n",
    "    # Commit the table. Since this is a new table, Splitgraph will chunk it up instead of\n",
    "    # performing change tracking.\n",
    "    head = repository.commit()\n",
    "    tracer.log(\"commit_snap\")\n",
    "    \n",
    "    # Now change tracking is enabled. Do another set of writes to calculate its overhead.\n",
    "    generate_random_table(repository, table_name=\"test\", create=False, start_key=size, size=size)\n",
    "    tracer.log(\"insert_rows_change_tracking\")\n",
    "    \n",
    "    # Discard all changes and time how long the checkout takes.\n",
    "    repository.object_engine.discard_pending_changes(repository.to_schema())\n",
    "    repository.uncheckout()\n",
    "    \n",
    "    tracer.log(\"uncheckout\")\n",
    "    head.checkout()\n",
    "    tracer.log(\"checkout\")\n",
    "    \n",
    "    # Check the sizes taken by the Splitgraph table and the PostgreSQL table\n",
    "    postgres_size = repository.engine.run_sql(\"SELECT pg_total_relation_size(%s)\",\n",
    "                              ('\"' + repository.to_schema() + '\".test',),\n",
    "                              return_shape=ResultShape.ONE_ONE)\n",
    "    splitgraph_size = head.get_size()\n",
    "    \n",
    "    tracer.log(\"get_sizes\")\n",
    "    \n",
    "    # Test the time taken by some sample queries with PostgreSQL vs layered querying\n",
    "    # This is a very crude benchmark, since this is not real-world data or query load.\n",
    "    \n",
    "    # NB SQL injection, we trust the value of the `size` here but this shouldn't be run in anything serious.\n",
    "    queries = [(\"SELECT AVG(value_2) FROM test\", \"select_all\"),\n",
    "               (\"SELECT value_1 FROM test WHERE key = %s\" % (size // 2), \"select_by_key\"),\n",
    "               (\"SELECT AVG(value_2) FROM test WHERE key BETWEEN %s AND %s\" % (size // 4, size // 4 + 1000),\n",
    "               \"aggregate\"),\n",
    "               (\"SELECT 1 FROM test WHERE value_1 = '00000000'\", \"select_by_value\")]\n",
    "    \n",
    "    # First, run this with Postgres\n",
    "    for query, name in queries:\n",
    "        # Run the query once for warmup first\n",
    "        repository.run_sql(query)\n",
    "        for _ in range(query_iterations):\n",
    "            repository.run_sql(query)\n",
    "        tracer.log(name + \"_pg\")\n",
    "    \n",
    "    # Do an LQ checkout and try this again\n",
    "    head.checkout(layered=True)\n",
    "    tracer.log(\"lq_checkout\")\n",
    "    \n",
    "    for query, name in queries:\n",
    "        repository.run_sql(query)\n",
    "        for _ in range(query_iterations):\n",
    "            repository.run_sql(query)\n",
    "        tracer.log(name + \"_lq\")\n",
    "\n",
    "    return tracer, postgres_size, splitgraph_size"
   ]
  },
  {
   "cell_type": "code",
   "execution_count": 4,
   "metadata": {},
   "outputs": [],
   "source": [
    "def benchmark_multiple(repository: Repository, size: int, iterations: int):\n",
    "    \"\"\"Perform multiple benchmark runs and return the averages\"\"\"\n",
    "    result = []\n",
    "    \n",
    "    for _ in range(iterations):\n",
    "        tracer, pg_size, sg_size = benchmark_single(repository, size, query_iterations=iterations)\n",
    "        \n",
    "        durations = tracer.get_durations()\n",
    "        \n",
    "        subresult = []\n",
    "        \n",
    "        for e, ed in durations:\n",
    "            # divide query durations by the amount of times they ran in this iteration\n",
    "            if e.endswith(\"_pg\") or e.endswith(\"_lq\"):\n",
    "                ed = ed / float(iterations)\n",
    "                \n",
    "            subresult.append((e, ed))\n",
    "        \n",
    "        subresult.append((\"pg_size\", pg_size))\n",
    "        subresult.append((\"sg_size\", sg_size))\n",
    "    \n",
    "        result.append(subresult)\n",
    "    \n",
    "    # Average the result\n",
    "    result_avg = []\n",
    "    for rs in zip(*result):\n",
    "        result_name = rs[0][0]\n",
    "        result_values = [rr[1] for rr in rs]\n",
    "        \n",
    "        result_avg.append((result_name, sum(result_values) / float(len(result_values))))\n",
    "    \n",
    "    return result_avg"
   ]
  },
  {
   "cell_type": "code",
   "execution_count": 5,
   "metadata": {},
   "outputs": [
    {
     "name": "stdout",
     "output_type": "stream",
     "text": [
      "Running size=1000, iterations=10\n"
     ]
    },
    {
     "name": "stderr",
     "output_type": "stream",
     "text": [
      "100%|██████████| 1/1 [00:00<00:00,  5.51objs/s]\n",
      "100%|██████████| 1/1 [00:00<00:00,  6.69objs/s]\n",
      "100%|██████████| 1/1 [00:00<00:00,  6.35objs/s]\n",
      "100%|██████████| 1/1 [00:00<00:00,  6.91objs/s]\n",
      "100%|██████████| 1/1 [00:00<00:00,  6.70objs/s]\n",
      "100%|██████████| 1/1 [00:00<00:00,  6.72objs/s]\n",
      "100%|██████████| 1/1 [00:00<00:00,  6.81objs/s]\n",
      "100%|██████████| 1/1 [00:00<00:00,  6.65objs/s]\n",
      "100%|██████████| 1/1 [00:00<00:00,  6.02objs/s]\n",
      "100%|██████████| 1/1 [00:00<00:00,  6.51objs/s]\n"
     ]
    },
    {
     "name": "stdout",
     "output_type": "stream",
     "text": [
      "Running size=5000, iterations=10\n"
     ]
    },
    {
     "name": "stderr",
     "output_type": "stream",
     "text": [
      "100%|██████████| 1/1 [00:00<00:00,  3.54objs/s]\n",
      "100%|██████████| 1/1 [00:00<00:00,  2.67objs/s]\n",
      "100%|██████████| 1/1 [00:00<00:00,  3.46objs/s]\n",
      "100%|██████████| 1/1 [00:00<00:00,  3.61objs/s]\n",
      "100%|██████████| 1/1 [00:00<00:00,  2.32objs/s]\n",
      "100%|██████████| 1/1 [00:00<00:00,  3.07objs/s]\n",
      "100%|██████████| 1/1 [00:00<00:00,  3.67objs/s]\n",
      "100%|██████████| 1/1 [00:00<00:00,  3.48objs/s]\n",
      "100%|██████████| 1/1 [00:00<00:00,  3.15objs/s]\n",
      "100%|██████████| 1/1 [00:00<00:00,  3.03objs/s]\n"
     ]
    },
    {
     "name": "stdout",
     "output_type": "stream",
     "text": [
      "Running size=10000, iterations=10\n"
     ]
    },
    {
     "name": "stderr",
     "output_type": "stream",
     "text": [
      "100%|██████████| 1/1 [00:00<00:00,  1.96objs/s]\n",
      "100%|██████████| 1/1 [00:00<00:00,  1.86objs/s]\n",
      "100%|██████████| 1/1 [00:00<00:00,  2.14objs/s]\n",
      "100%|██████████| 1/1 [00:00<00:00,  2.15objs/s]\n",
      "100%|██████████| 1/1 [00:00<00:00,  1.99objs/s]\n",
      "100%|██████████| 1/1 [00:00<00:00,  2.16objs/s]\n",
      "100%|██████████| 1/1 [00:00<00:00,  2.20objs/s]\n",
      "100%|██████████| 1/1 [00:00<00:00,  2.01objs/s]\n",
      "100%|██████████| 1/1 [00:00<00:00,  2.20objs/s]\n",
      "100%|██████████| 1/1 [00:00<00:00,  2.27objs/s]\n"
     ]
    },
    {
     "name": "stdout",
     "output_type": "stream",
     "text": [
      "Running size=50000, iterations=3\n"
     ]
    },
    {
     "name": "stderr",
     "output_type": "stream",
     "text": [
      "100%|██████████| 5/5 [00:01<00:00,  2.52objs/s]\n",
      "100%|██████████| 5/5 [00:01<00:00,  2.55objs/s]\n",
      "100%|██████████| 5/5 [00:01<00:00,  2.63objs/s]\n"
     ]
    },
    {
     "name": "stdout",
     "output_type": "stream",
     "text": [
      "Running size=100000, iterations=3\n"
     ]
    },
    {
     "name": "stderr",
     "output_type": "stream",
     "text": [
      "100%|██████████| 10/10 [00:04<00:00,  2.41objs/s]\n",
      "100%|██████████| 10/10 [00:03<00:00,  2.58objs/s]\n",
      "100%|██████████| 10/10 [00:03<00:00,  2.60objs/s]\n"
     ]
    },
    {
     "name": "stdout",
     "output_type": "stream",
     "text": [
      "Running size=500000, iterations=3\n"
     ]
    },
    {
     "name": "stderr",
     "output_type": "stream",
     "text": [
      "100%|██████████| 50/50 [00:19<00:00,  2.61objs/s]\n",
      "100%|██████████| 50/50 [00:19<00:00,  2.53objs/s]\n",
      "100%|██████████| 50/50 [00:19<00:00,  2.58objs/s]\n"
     ]
    },
    {
     "name": "stdout",
     "output_type": "stream",
     "text": [
      "Running size=1000000, iterations=3\n"
     ]
    },
    {
     "name": "stderr",
     "output_type": "stream",
     "text": [
      "100%|██████████| 100/100 [00:39<00:00,  2.54objs/s]\n",
      "100%|██████████| 100/100 [00:40<00:00,  2.49objs/s]\n",
      "100%|██████████| 100/100 [00:40<00:00,  2.46objs/s]\n"
     ]
    },
    {
     "name": "stdout",
     "output_type": "stream",
     "text": [
      "Running size=5000000, iterations=1\n"
     ]
    },
    {
     "name": "stderr",
     "output_type": "stream",
     "text": [
      "100%|██████████| 500/500 [03:08<00:00,  2.65objs/s]\n"
     ]
    }
   ],
   "source": [
    "sizes_iterations = [\n",
    "    (1000, 10),\n",
    "    (5000, 10),\n",
    "    (10000, 10),\n",
    "    (50000, 3),\n",
    "    (100000, 3),\n",
    "    (500000, 3),\n",
    "    (1000000, 3),\n",
    "    (5000000, 1),\n",
    "]\n",
    "\n",
    "results = []\n",
    "\n",
    "for size, iterations in sizes_iterations:\n",
    "    print(f\"Running size={size}, iterations={iterations}\")\n",
    "    results.append(benchmark_multiple(BENCHMARK, size=size, iterations=iterations))"
   ]
  },
  {
   "cell_type": "code",
   "execution_count": 6,
   "metadata": {},
   "outputs": [
    {
     "data": {
      "text/plain": [
       "[[('table_creation', 0.107819),\n",
       "  ('commit_snap', 0.48750659999999996),\n",
       "  ('insert_rows_change_tracking', 0.20744730000000003),\n",
       "  ('uncheckout', 0.3184528999999999),\n",
       "  ('checkout', 0.3947565),\n",
       "  ('get_sizes', 0.0032137000000000008),\n",
       "  ('select_all_pg', 0.0017005500000000003),\n",
       "  ('select_by_key_pg', 0.0012825999999999998),\n",
       "  ('aggregate_pg', 0.00202088),\n",
       "  ('select_by_value_pg', 0.0018456100000000003),\n",
       "  ('lq_checkout', 0.7289601),\n",
       "  ('select_all_lq', 0.18771490000000002),\n",
       "  ('select_by_key_lq', 0.1424099),\n",
       "  ('aggregate_lq', 0.14840767000000005),\n",
       "  ('select_by_value_lq', 0.011863),\n",
       "  ('pg_size', 147456.0),\n",
       "  ('sg_size', 17150.7)],\n",
       " [('table_creation', 0.6313886),\n",
       "  ('commit_snap', 0.6611596000000001),\n",
       "  ('insert_rows_change_tracking', 1.1927912),\n",
       "  ('uncheckout', 0.2908481),\n",
       "  ('checkout', 0.40531649999999997),\n",
       "  ('get_sizes', 0.0034624),\n",
       "  ('select_all_pg', 0.00316558),\n",
       "  ('select_by_key_pg', 0.0013007500000000003),\n",
       "  ('aggregate_pg', 0.00185083),\n",
       "  ('select_by_value_pg', 0.0032102899999999998),\n",
       "  ('lq_checkout', 0.7125875),\n",
       "  ('select_all_lq', 0.19991809),\n",
       "  ('select_by_key_lq', 0.14626058000000003),\n",
       "  ('aggregate_lq', 0.15135221),\n",
       "  ('select_by_value_lq', 0.0123113),\n",
       "  ('pg_size', 442368.0),\n",
       "  ('sg_size', 83006.7)],\n",
       " [('table_creation', 1.2385519999999999),\n",
       "  ('commit_snap', 0.8334413999999999),\n",
       "  ('insert_rows_change_tracking', 2.2482596),\n",
       "  ('uncheckout', 0.3057905),\n",
       "  ('checkout', 0.44376239999999995),\n",
       "  ('get_sizes', 0.0037387999999999996),\n",
       "  ('select_all_pg', 0.00511849),\n",
       "  ('select_by_key_pg', 0.0013802),\n",
       "  ('aggregate_pg', 0.0020863699999999997),\n",
       "  ('select_by_value_pg', 0.00521096),\n",
       "  ('lq_checkout', 0.7541342),\n",
       "  ('select_all_lq', 0.20640509),\n",
       "  ('select_by_key_lq', 0.15160455),\n",
       "  ('aggregate_lq', 0.15394053),\n",
       "  ('select_by_value_lq', 0.01180604),\n",
       "  ('pg_size', 819200.0),\n",
       "  ('sg_size', 165389.1)],\n",
       " [('table_creation', 6.163440333333334),\n",
       "  ('commit_snap', 2.446617),\n",
       "  ('insert_rows_change_tracking', 11.396005666666667),\n",
       "  ('uncheckout', 0.5103623333333334),\n",
       "  ('checkout', 0.7031403333333334),\n",
       "  ('get_sizes', 0.0036950000000000004),\n",
       "  ('select_all_pg', 0.02395477777777778),\n",
       "  ('select_by_key_pg', 0.0017835555555555556),\n",
       "  ('aggregate_pg', 0.002474555555555556),\n",
       "  ('select_by_value_pg', 0.023530222222222227),\n",
       "  ('lq_checkout', 0.8166220000000001),\n",
       "  ('select_all_lq', 0.5082937777777777),\n",
       "  ('select_by_key_lq', 0.18196544444444443),\n",
       "  ('aggregate_lq', 0.18605033333333332),\n",
       "  ('select_by_value_lq', 0.015098555555555554),\n",
       "  ('pg_size', 3801088.0),\n",
       "  ('sg_size', 826822.3333333334)],\n",
       " [('table_creation', 12.343955000000001),\n",
       "  ('commit_snap', 4.609076333333333),\n",
       "  ('insert_rows_change_tracking', 22.605896333333334),\n",
       "  ('uncheckout', 0.684043),\n",
       "  ('checkout', 1.439592),\n",
       "  ('get_sizes', 0.004376333333333334),\n",
       "  ('select_all_pg', 0.05972588888888889),\n",
       "  ('select_by_key_pg', 0.0018914444444444445),\n",
       "  ('aggregate_pg', 0.0026853333333333334),\n",
       "  ('select_by_value_pg', 0.04739866666666667),\n",
       "  ('lq_checkout', 0.8311186666666667),\n",
       "  ('select_all_lq', 0.5621223333333334),\n",
       "  ('select_by_key_lq', 0.1834881111111111),\n",
       "  ('aggregate_lq', 0.18357022222222222),\n",
       "  ('select_by_value_lq', 0.015716333333333332),\n",
       "  ('pg_size', 7528448.0),\n",
       "  ('sg_size', 1653646.6666666667)],\n",
       " [('table_creation', 60.531648),\n",
       "  ('commit_snap', 21.262089),\n",
       "  ('insert_rows_change_tracking', 110.42065733333334),\n",
       "  ('uncheckout', 2.2696273333333337),\n",
       "  ('checkout', 14.170371333333334),\n",
       "  ('get_sizes', 0.0038280000000000002),\n",
       "  ('select_all_pg', 0.0882418888888889),\n",
       "  ('select_by_key_pg', 0.0014775555555555555),\n",
       "  ('aggregate_pg', 0.0021997777777777775),\n",
       "  ('select_by_value_pg', 0.08619499999999998),\n",
       "  ('lq_checkout', 1.3941543333333335),\n",
       "  ('select_all_lq', 1.0262678888888888),\n",
       "  ('select_by_key_lq', 0.18802766666666668),\n",
       "  ('aggregate_lq', 0.19159633333333334),\n",
       "  ('select_by_value_lq', 0.016968333333333332),\n",
       "  ('pg_size', 37396480.0),\n",
       "  ('sg_size', 8266949.333333333)],\n",
       " [('table_creation', 117.85802100000001),\n",
       "  ('commit_snap', 43.397957),\n",
       "  ('insert_rows_change_tracking', 218.02621333333332),\n",
       "  ('uncheckout', 5.878526999999999),\n",
       "  ('checkout', 52.066735333333334),\n",
       "  ('get_sizes', 0.004700666666666666),\n",
       "  ('select_all_pg', 0.1672461111111111),\n",
       "  ('select_by_key_pg', 0.001687888888888889),\n",
       "  ('aggregate_pg', 0.0024421111111111115),\n",
       "  ('select_by_value_pg', 0.1661595555555556),\n",
       "  ('lq_checkout', 1.0421933333333333),\n",
       "  ('select_all_lq', 1.5924663333333335),\n",
       "  ('select_by_key_lq', 0.1846346666666667),\n",
       "  ('aggregate_lq', 0.19089055555555556),\n",
       "  ('select_by_value_lq', 0.017361444444444447),\n",
       "  ('pg_size', 74727424.0),\n",
       "  ('sg_size', 16534527.666666666)],\n",
       " [('table_creation', 599.022895),\n",
       "  ('commit_snap', 214.721326),\n",
       "  ('insert_rows_change_tracking', 1128.329066),\n",
       "  ('uncheckout', 89.767644),\n",
       "  ('checkout', 213.842784),\n",
       "  ('get_sizes', 0.081437),\n",
       "  ('select_all_pg', 1.428128),\n",
       "  ('select_by_key_pg', 0.002414),\n",
       "  ('aggregate_pg', 0.003635),\n",
       "  ('select_by_value_pg', 1.203445),\n",
       "  ('lq_checkout', 2.810967),\n",
       "  ('select_all_lq', 13.366617),\n",
       "  ('select_by_key_lq', 0.307671),\n",
       "  ('aggregate_lq', 0.341205),\n",
       "  ('select_by_value_lq', 0.034583),\n",
       "  ('pg_size', 373334016.0),\n",
       "  ('sg_size', 82677244.0)]]"
      ]
     },
     "execution_count": 6,
     "metadata": {},
     "output_type": "execute_result"
    }
   ],
   "source": [
    "results"
   ]
  },
  {
   "cell_type": "markdown",
   "metadata": {},
   "source": [
    "Create some bar plots of the resulting data."
   ]
  },
  {
   "cell_type": "code",
   "execution_count": 8,
   "metadata": {},
   "outputs": [
    {
     "data": {
      "text/html": [
       "<div>\n",
       "<style scoped>\n",
       "    .dataframe tbody tr th:only-of-type {\n",
       "        vertical-align: middle;\n",
       "    }\n",
       "\n",
       "    .dataframe tbody tr th {\n",
       "        vertical-align: top;\n",
       "    }\n",
       "\n",
       "    .dataframe thead th {\n",
       "        text-align: right;\n",
       "    }\n",
       "</style>\n",
       "<table border=\"1\" class=\"dataframe\">\n",
       "  <thead>\n",
       "    <tr style=\"text-align: right;\">\n",
       "      <th></th>\n",
       "      <th>table_creation</th>\n",
       "      <th>commit_snap</th>\n",
       "      <th>insert_rows_change_tracking</th>\n",
       "      <th>uncheckout</th>\n",
       "      <th>checkout</th>\n",
       "      <th>get_sizes</th>\n",
       "      <th>select_all_pg</th>\n",
       "      <th>select_by_key_pg</th>\n",
       "      <th>aggregate_pg</th>\n",
       "      <th>select_by_value_pg</th>\n",
       "      <th>lq_checkout</th>\n",
       "      <th>select_all_lq</th>\n",
       "      <th>select_by_key_lq</th>\n",
       "      <th>aggregate_lq</th>\n",
       "      <th>select_by_value_lq</th>\n",
       "      <th>pg_size</th>\n",
       "      <th>sg_size</th>\n",
       "      <th>rows</th>\n",
       "    </tr>\n",
       "  </thead>\n",
       "  <tbody>\n",
       "    <tr>\n",
       "      <th>0</th>\n",
       "      <td>0.107819</td>\n",
       "      <td>0.487507</td>\n",
       "      <td>0.207447</td>\n",
       "      <td>0.318453</td>\n",
       "      <td>0.394757</td>\n",
       "      <td>0.003214</td>\n",
       "      <td>0.001701</td>\n",
       "      <td>0.001283</td>\n",
       "      <td>0.002021</td>\n",
       "      <td>0.001846</td>\n",
       "      <td>0.728960</td>\n",
       "      <td>0.187715</td>\n",
       "      <td>0.142410</td>\n",
       "      <td>0.148408</td>\n",
       "      <td>0.011863</td>\n",
       "      <td>147456.0</td>\n",
       "      <td>1.715070e+04</td>\n",
       "      <td>1000</td>\n",
       "    </tr>\n",
       "    <tr>\n",
       "      <th>1</th>\n",
       "      <td>0.631389</td>\n",
       "      <td>0.661160</td>\n",
       "      <td>1.192791</td>\n",
       "      <td>0.290848</td>\n",
       "      <td>0.405316</td>\n",
       "      <td>0.003462</td>\n",
       "      <td>0.003166</td>\n",
       "      <td>0.001301</td>\n",
       "      <td>0.001851</td>\n",
       "      <td>0.003210</td>\n",
       "      <td>0.712588</td>\n",
       "      <td>0.199918</td>\n",
       "      <td>0.146261</td>\n",
       "      <td>0.151352</td>\n",
       "      <td>0.012311</td>\n",
       "      <td>442368.0</td>\n",
       "      <td>8.300670e+04</td>\n",
       "      <td>5000</td>\n",
       "    </tr>\n",
       "    <tr>\n",
       "      <th>2</th>\n",
       "      <td>1.238552</td>\n",
       "      <td>0.833441</td>\n",
       "      <td>2.248260</td>\n",
       "      <td>0.305791</td>\n",
       "      <td>0.443762</td>\n",
       "      <td>0.003739</td>\n",
       "      <td>0.005118</td>\n",
       "      <td>0.001380</td>\n",
       "      <td>0.002086</td>\n",
       "      <td>0.005211</td>\n",
       "      <td>0.754134</td>\n",
       "      <td>0.206405</td>\n",
       "      <td>0.151605</td>\n",
       "      <td>0.153941</td>\n",
       "      <td>0.011806</td>\n",
       "      <td>819200.0</td>\n",
       "      <td>1.653891e+05</td>\n",
       "      <td>10000</td>\n",
       "    </tr>\n",
       "    <tr>\n",
       "      <th>3</th>\n",
       "      <td>6.163440</td>\n",
       "      <td>2.446617</td>\n",
       "      <td>11.396006</td>\n",
       "      <td>0.510362</td>\n",
       "      <td>0.703140</td>\n",
       "      <td>0.003695</td>\n",
       "      <td>0.023955</td>\n",
       "      <td>0.001784</td>\n",
       "      <td>0.002475</td>\n",
       "      <td>0.023530</td>\n",
       "      <td>0.816622</td>\n",
       "      <td>0.508294</td>\n",
       "      <td>0.181965</td>\n",
       "      <td>0.186050</td>\n",
       "      <td>0.015099</td>\n",
       "      <td>3801088.0</td>\n",
       "      <td>8.268223e+05</td>\n",
       "      <td>50000</td>\n",
       "    </tr>\n",
       "    <tr>\n",
       "      <th>4</th>\n",
       "      <td>12.343955</td>\n",
       "      <td>4.609076</td>\n",
       "      <td>22.605896</td>\n",
       "      <td>0.684043</td>\n",
       "      <td>1.439592</td>\n",
       "      <td>0.004376</td>\n",
       "      <td>0.059726</td>\n",
       "      <td>0.001891</td>\n",
       "      <td>0.002685</td>\n",
       "      <td>0.047399</td>\n",
       "      <td>0.831119</td>\n",
       "      <td>0.562122</td>\n",
       "      <td>0.183488</td>\n",
       "      <td>0.183570</td>\n",
       "      <td>0.015716</td>\n",
       "      <td>7528448.0</td>\n",
       "      <td>1.653647e+06</td>\n",
       "      <td>100000</td>\n",
       "    </tr>\n",
       "    <tr>\n",
       "      <th>5</th>\n",
       "      <td>60.531648</td>\n",
       "      <td>21.262089</td>\n",
       "      <td>110.420657</td>\n",
       "      <td>2.269627</td>\n",
       "      <td>14.170371</td>\n",
       "      <td>0.003828</td>\n",
       "      <td>0.088242</td>\n",
       "      <td>0.001478</td>\n",
       "      <td>0.002200</td>\n",
       "      <td>0.086195</td>\n",
       "      <td>1.394154</td>\n",
       "      <td>1.026268</td>\n",
       "      <td>0.188028</td>\n",
       "      <td>0.191596</td>\n",
       "      <td>0.016968</td>\n",
       "      <td>37396480.0</td>\n",
       "      <td>8.266949e+06</td>\n",
       "      <td>500000</td>\n",
       "    </tr>\n",
       "    <tr>\n",
       "      <th>6</th>\n",
       "      <td>117.858021</td>\n",
       "      <td>43.397957</td>\n",
       "      <td>218.026213</td>\n",
       "      <td>5.878527</td>\n",
       "      <td>52.066735</td>\n",
       "      <td>0.004701</td>\n",
       "      <td>0.167246</td>\n",
       "      <td>0.001688</td>\n",
       "      <td>0.002442</td>\n",
       "      <td>0.166160</td>\n",
       "      <td>1.042193</td>\n",
       "      <td>1.592466</td>\n",
       "      <td>0.184635</td>\n",
       "      <td>0.190891</td>\n",
       "      <td>0.017361</td>\n",
       "      <td>74727424.0</td>\n",
       "      <td>1.653453e+07</td>\n",
       "      <td>1000000</td>\n",
       "    </tr>\n",
       "    <tr>\n",
       "      <th>7</th>\n",
       "      <td>599.022895</td>\n",
       "      <td>214.721326</td>\n",
       "      <td>1128.329066</td>\n",
       "      <td>89.767644</td>\n",
       "      <td>213.842784</td>\n",
       "      <td>0.081437</td>\n",
       "      <td>1.428128</td>\n",
       "      <td>0.002414</td>\n",
       "      <td>0.003635</td>\n",
       "      <td>1.203445</td>\n",
       "      <td>2.810967</td>\n",
       "      <td>13.366617</td>\n",
       "      <td>0.307671</td>\n",
       "      <td>0.341205</td>\n",
       "      <td>0.034583</td>\n",
       "      <td>373334016.0</td>\n",
       "      <td>8.267724e+07</td>\n",
       "      <td>5000000</td>\n",
       "    </tr>\n",
       "  </tbody>\n",
       "</table>\n",
       "</div>"
      ],
      "text/plain": [
       "   table_creation  commit_snap  insert_rows_change_tracking  uncheckout  \\\n",
       "0        0.107819     0.487507                     0.207447    0.318453   \n",
       "1        0.631389     0.661160                     1.192791    0.290848   \n",
       "2        1.238552     0.833441                     2.248260    0.305791   \n",
       "3        6.163440     2.446617                    11.396006    0.510362   \n",
       "4       12.343955     4.609076                    22.605896    0.684043   \n",
       "5       60.531648    21.262089                   110.420657    2.269627   \n",
       "6      117.858021    43.397957                   218.026213    5.878527   \n",
       "7      599.022895   214.721326                  1128.329066   89.767644   \n",
       "\n",
       "     checkout  get_sizes  select_all_pg  select_by_key_pg  aggregate_pg  \\\n",
       "0    0.394757   0.003214       0.001701          0.001283      0.002021   \n",
       "1    0.405316   0.003462       0.003166          0.001301      0.001851   \n",
       "2    0.443762   0.003739       0.005118          0.001380      0.002086   \n",
       "3    0.703140   0.003695       0.023955          0.001784      0.002475   \n",
       "4    1.439592   0.004376       0.059726          0.001891      0.002685   \n",
       "5   14.170371   0.003828       0.088242          0.001478      0.002200   \n",
       "6   52.066735   0.004701       0.167246          0.001688      0.002442   \n",
       "7  213.842784   0.081437       1.428128          0.002414      0.003635   \n",
       "\n",
       "   select_by_value_pg  lq_checkout  select_all_lq  select_by_key_lq  \\\n",
       "0            0.001846     0.728960       0.187715          0.142410   \n",
       "1            0.003210     0.712588       0.199918          0.146261   \n",
       "2            0.005211     0.754134       0.206405          0.151605   \n",
       "3            0.023530     0.816622       0.508294          0.181965   \n",
       "4            0.047399     0.831119       0.562122          0.183488   \n",
       "5            0.086195     1.394154       1.026268          0.188028   \n",
       "6            0.166160     1.042193       1.592466          0.184635   \n",
       "7            1.203445     2.810967      13.366617          0.307671   \n",
       "\n",
       "   aggregate_lq  select_by_value_lq      pg_size       sg_size     rows  \n",
       "0      0.148408            0.011863     147456.0  1.715070e+04     1000  \n",
       "1      0.151352            0.012311     442368.0  8.300670e+04     5000  \n",
       "2      0.153941            0.011806     819200.0  1.653891e+05    10000  \n",
       "3      0.186050            0.015099    3801088.0  8.268223e+05    50000  \n",
       "4      0.183570            0.015716    7528448.0  1.653647e+06   100000  \n",
       "5      0.191596            0.016968   37396480.0  8.266949e+06   500000  \n",
       "6      0.190891            0.017361   74727424.0  1.653453e+07  1000000  \n",
       "7      0.341205            0.034583  373334016.0  8.267724e+07  5000000  "
      ]
     },
     "execution_count": 8,
     "metadata": {},
     "output_type": "execute_result"
    }
   ],
   "source": [
    "results_data = [{**dict(r), \"rows\": si[0]} for r, si in zip(results, sizes_iterations)]\n",
    "results_df = pd.DataFrame(results_data)\n",
    "results_df"
   ]
  },
  {
   "cell_type": "code",
   "execution_count": 41,
   "metadata": {},
   "outputs": [
    {
     "data": {
      "text/plain": [
       "Text(0.5, 1.0, 'Overhead of common Splitgraph operations\\nvs time taken by Postgres to write the data')"
      ]
     },
     "execution_count": 41,
     "metadata": {},
     "output_type": "execute_result"
    },
    {
     "data": {
      "image/png": "[encoded data removed]",
      "text/plain": [
       "<Figure size 948.6x360 with 1 Axes>"
      ]
     },
     "metadata": {},
     "output_type": "display_data"
    },
    {
     "data": {
      "image/png": "[encoded data removed]",
      "text/plain": [
       "<Figure size 948.6x360 with 1 Axes>"
      ]
     },
     "metadata": {},
     "output_type": "display_data"
    }
   ],
   "source": [
    "# Plot actual times\n",
    "time_df = pd.DataFrame()\n",
    "time_df[\"Rows\"] = results_df[\"rows\"]\n",
    "time_df[\"Original write (PG)\"] = results_df[\"table_creation\"]\n",
    "time_df[\"Commit image\"] = results_df[\"commit_snap\"]\n",
    "time_df[\"Insert data (with change tracking)\"] = results_df[\"insert_rows_change_tracking\"]\n",
    "time_df[\"Checkout\"] = results_df[\"checkout\"]\n",
    "\n",
    "time_df = pd.melt(time_df, id_vars=\"Rows\", var_name=\"Workload\", value_name=\"Time, s\")\n",
    "\n",
    "sns.catplot(data=time_df, x=\"Rows\", y=\"Time, s\", \n",
    "                 hue=\"Workload\", kind=\"bar\", height=5, aspect=2)\n",
    "plt.yscale(\"log\")\n",
    "plt.title(\"Time taken by common Splitgraph operations\")\n",
    "\n",
    "# Calculate the time overhead relative to Postgres\n",
    "overhead_df = pd.DataFrame()\n",
    "overhead_df[\"Rows\"] = results_df[\"rows\"]\n",
    "overhead_df[\"Commit image\"] = (results_df[\"commit_snap\"] / results_df[\"table_creation\"] - 1) * 100\n",
    "overhead_df[\"Insert data (with change tracking)\"] = (results_df[\"insert_rows_change_tracking\"] / results_df[\"table_creation\"] - 1) * 100\n",
    "overhead_df[\"Checkout\"] = (results_df[\"checkout\"] / results_df[\"table_creation\"] - 1) * 100\n",
    "\n",
    "overhead_df = pd.melt(overhead_df, id_vars=\"Rows\", var_name=\"Workload\", value_name=\"Overhead vs Postgres\")\n",
    "\n",
    "sns.catplot(data=overhead_df, x=\"Rows\", y=\"Overhead vs Postgres\", \n",
    "                 hue=\"Workload\", kind=\"bar\", height=5, aspect=2)\n",
    "plt.gca().yaxis.set_major_formatter(mtick.PercentFormatter())\n",
    "plt.title(\"Overhead of common Splitgraph operations\\nvs time taken by Postgres to write the data\")"
   ]
  },
  {
   "cell_type": "markdown",
   "metadata": {},
   "source": [
    "For decently large (more than 1000 rows) tables, Splitgraph's commits and checkouts take a considerably smaller time than writing the initial table. This is for two reasons:\n",
    "\n",
    "  * Writing the original table also takes into account the time to write and parse the INSERT statements. Splitgraph's commits and checkouts defer to Postgres for moving data around and don't actually inspect the data (apart from object hashing), avoiding this step.\n",
    "  * Postgres' WAL and durability guarantees were enabled when the data was originally written. At commit time, writes to Splitgraph's `cstore_fdw` object files don't get reflected in the WAL (since `cstore_fdw` is implemented as a foreign table). Since the data is already in a PostgreSQL table, this is an acceptable tradeoff -- if the commit gets abruptly terminated, Splitgraph will restart it from scratch. Splitgraph itself doesn't commit its own metadata writes to PostgreSQL until after the image has been created.\n",
    "\n",
    "Inserting data to a table with change tracking enabled incurs a slighly smaller than 1x overhead. This is because besides the actual target table, all writes have to be recorded to the pending changes table by the audit trigger."
   ]
  },
  {
   "cell_type": "code",
   "execution_count": 45,
   "metadata": {},
   "outputs": [
    {
     "data": {
      "text/plain": [
       "Text(0.5, 1.0, 'Splitgraph vs PostgreSQL relative data sizes')"
      ]
     },
     "execution_count": 45,
     "metadata": {},
     "output_type": "execute_result"
    },
    {
     "data": {
      "image/png": "[encoded data removed]",
      "text/plain": [
       "<Figure size 822.725x360 with 1 Axes>"
      ]
     },
     "metadata": {},
     "output_type": "display_data"
    },
    {
     "data": {
      "image/png": "[encoded data removed]",
      "text/plain": [
       "<Figure size 720x360 with 1 Axes>"
      ]
     },
     "metadata": {},
     "output_type": "display_data"
    }
   ],
   "source": [
    "# Plot image sizes\n",
    "size_df = pd.DataFrame()\n",
    "size_df[\"Rows\"] = results_df[\"rows\"]\n",
    "size_df[\"PostgreSQL\"] = results_df[\"pg_size\"] / 1024. / 1024.\n",
    "size_df[\"Splitgraph\"] = results_df[\"sg_size\"] / 1024. / 1024.\n",
    "\n",
    "size_df = pd.melt(size_df, id_vars=\"Rows\", var_name=\"Storage\", value_name=\"Image size, MB\")\n",
    "\n",
    "sns.catplot(data=size_df, x=\"Rows\", y=\"Image size, MB\", \n",
    "                 hue=\"Storage\", kind=\"bar\", height=5, aspect=2)\n",
    "plt.yscale(\"log\")\n",
    "plt.title(\"Splitgraph vs PostgreSQL data size comparison\")\n",
    "\n",
    "# Plot image size overhead\n",
    "size_df = pd.DataFrame()\n",
    "size_df[\"Rows\"] = results_df[\"rows\"]\n",
    "size_df[\"Splitgraph size improvement\"] = (1 - results_df[\"sg_size\"] / results_df[\"pg_size\"]) * 100\n",
    "\n",
    "sns.catplot(data=size_df, x=\"Rows\", y=\"Splitgraph size improvement\", kind=\"bar\", height=5, aspect=2)\n",
    "plt.yscale(\"linear\")\n",
    "plt.gca().yaxis.set_major_formatter(mtick.PercentFormatter())\n",
    "plt.title(\"Splitgraph vs PostgreSQL relative data sizes\")"
   ]
  },
  {
   "cell_type": "markdown",
   "metadata": {},
   "source": [
    "Splitgraph is much more efficient than PostgreSQL at storing data: in this case, Splitgraph images take up 5x less space than PostgreSQL tables. This is because Splitgraph uses [`cstore_fdw`](https://github.com/citusdata/cstore_fdw), a columnar store extension for PostgreSQL. Data stored in such way compresses better, since it's more homogeneous."
   ]
  },
  {
   "cell_type": "code",
   "execution_count": 46,
   "metadata": {},
   "outputs": [
    {
     "data": {
      "image/png": "[encoded data removed]",
      "text/plain": [
       "<Figure size 827.8x576 with 4 Axes>"
      ]
     },
     "metadata": {},
     "output_type": "display_data"
    }
   ],
   "source": [
    "# Plot query performance.\n",
    "query_df = pd.DataFrame()\n",
    "query_df[\"Rows\"] = results_df[\"rows\"]\n",
    "for query_short, query_name in [(\"select_all\", \"Aggregate all\"), \n",
    "                                (\"select_by_key\", \"SELECT by primary key\"),\n",
    "                                (\"aggregate\", \"Aggregate region\"),\n",
    "                                (\"select_by_value\", \"SELECT by value\")]:\n",
    "    query_df[f\"{query_name} (PG)\"] = results_df[f\"{query_short}_pg\"]\n",
    "    query_df[f\"{query_name} (LQ)\"] = results_df[f\"{query_short}_lq\"]\n",
    "\n",
    "query_df = pd.melt(query_df, id_vars=[\"Rows\"], var_name=\"Query type\", value_name=\"Time, s\")\n",
    "query_df[\"Method\"] = query_df[\"Query type\"].apply(lambda q: \"PostgreSQL table\" if \"(PG)\" in q else \"Layered querying\")\n",
    "query_df[\"Query type\"] = query_df[\"Query type\"].apply(lambda q: q.replace(\" (PG)\", \"\").replace(\" (LQ)\", \"\"))\n",
    "\n",
    "c = sns.catplot(data=query_df, x=\"Rows\", y=\"Time, s\", \n",
    "            hue=\"Method\", col=\"Query type\", kind=\"bar\",\n",
    "            height=4, aspect=1.2, col_wrap=2)\n",
    "plt.yscale(\"log\")\n",
    "plt.subplots_adjust(top=0.90)\n",
    "plt.suptitle(\"Performance of layered querying vs native PostgreSQL\")\n",
    "for axes in c.axes.flat:\n",
    "    axes.set_xticklabels(axes.get_xticklabels(), rotation=45, horizontalalignment=\"right\")"
   ]
  },
  {
   "cell_type": "markdown",
   "metadata": {},
   "source": [
    "Splitgraph images can be queried in two ways: by checking them out into native PostgreSQL tables or by\n",
    "querying them through a foreign data wrapper that presents itself to applications as a normal table (layered querying). These two methods have different tradeoffs and cover different use cases.\n",
    "\n",
    "The query types here are:\n",
    "\n",
    "  * Aggregate all: `SELECT AVG(value_2) FROM test`\n",
    "  * SELECT by PK: `SELECT value_1 FROM test WHERE key = single_value`\n",
    "  * Aggregate region: `SELECT AVG(value_2) FROM test WHERE key BETWEEN [a range of 1000 elements]`\n",
    "  * SELECT by value: `SELECT 1 FROM test WHERE value_1 = '00000000'`\n",
    "\n",
    "Layered querying usually incurs a fixed latency overhead, unlike PostgreSQL that can give an answer in less than a millisecond. This is because it's designed for querying huge datasets that are partially located on a remote machine: the LQ planner needs to consult Splitgraph's metadata store first to determine which objects need to be downloaded. This has an advantage over checking tables out: you don't need to download the whole dataset to run a query on it.\n",
    "\n",
    "For a lot of use cases, querying native PostgreSQL tables is going to be the fastest in terms of performance, assuming you're OK with paying the one-off cost of checking them out and creating required indexes.\n",
    "\n",
    "However, there is one notable outlier here: the \"SELECT by value\" query. Since it's not indexed in PostgreSQL, it forces a full table scan. Layered querying can use the Splitgraph range index on the objects' metadata to determine that none of the objects have this value and discard all of them."
   ]
  }
 ],
 "metadata": {
  "kernelspec": {
   "display_name": "Python 3",
   "language": "python",
   "name": "python3"
  },
  "language_info": {
   "codemirror_mode": {
    "name": "ipython",
    "version": 3
   },
   "file_extension": ".py",
   "mimetype": "text/x-python",
   "name": "python",
   "nbconvert_exporter": "python",
   "pygments_lexer": "ipython3",
   "version": "3.8.1"
  }
 },
 "nbformat": 4,
 "nbformat_minor": 2
}
