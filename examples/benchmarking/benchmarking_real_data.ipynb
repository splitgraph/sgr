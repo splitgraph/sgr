{
 "cells": [
  {
   "cell_type": "markdown",
   "metadata": {},
   "source": [
    "## Real-world Splitgraph benchmarks\n",
    "\n",
    "This notebook contains various benchmarks with real data hosted on Splitgraph Cloud.\n",
    "\n",
    "Note that running this will require about 5 GiB of free disk space."
   ]
  },
  {
   "cell_type": "code",
   "execution_count": 1,
   "metadata": {},
   "outputs": [],
   "source": [
    "import itertools\n",
    "import random\n",
    "\n",
    "import pandas as pd\n",
    "import seaborn as sns\n",
    "\n",
    "from splitgraph.core.repository import Repository, clone\n",
    "from splitgraph.core.common import Tracer, pretty_size\n",
    "from splitgraph.engine import ResultShape\n",
    "from splitgraph.core.engine import lookup_repository\n",
    "\n",
    "from psycopg2.sql import SQL, Identifier\n",
    "\n",
    "import matplotlib.ticker as mtick\n",
    "from matplotlib import pyplot as plt\n",
    "%matplotlib inline\n",
    "sns.set()\n",
    "plt.rcParams[\"figure.figsize\"] = (10,10)\n",
    "\n",
    "import logging\n",
    "logging.basicConfig(format='%(asctime)s %(message)s', level=logging.WARNING)"
   ]
  },
  {
   "cell_type": "code",
   "execution_count": 2,
   "metadata": {},
   "outputs": [],
   "source": [
    "dataset_queries = {\n",
    "    # Geonames dump from http://download.geonames.org/export/dump/allCountries.zip\n",
    "    \"splitgraph/geonames\": \"\"\"SELECT * FROM all_countries WHERE asciiname = 'Cambridge' \n",
    "       AND feature_class = 'P' AND country_code = 'GB'\"\"\",\n",
    "    # https://dataverse.harvard.edu/dataset.xhtml?persistentId=doi:10.7910/DVN/LYWX3D\n",
    "    \"splitgraph/2016_election\": \"\"\"SELECT candidate_normalized, SUM(votes) FROM precinct_results \n",
    "        WHERE state_postal = 'TX' GROUP BY candidate_normalized\"\"\",\n",
    "    # http://academictorrents.com/details/a2ccf94bbb4af222bf8e69dad60a68a29f310d9a/tech\n",
    "    \"splitgraph/domestic_us_flights\": \"\"\"SELECT fly_month, origin_airport, SUM(passengers) AS total_passengers FROM flights \n",
    "        WHERE fly_month >= '2008-01-01' AND fly_month < '2009-01-01' \n",
    "        GROUP BY fly_month, origin_airport\"\"\",\n",
    "    # US Congress tweets from https://raw.githubusercontent.com/alexlitel/congresstweets/master/data/\n",
    "    \"splitgraph/congress_tweets\": \"SELECT screen_name, COUNT(1) FROM tweets WHERE time > '2020-01-01' GROUP BY screen_name\"\n",
    "}"
   ]
  },
  {
   "cell_type": "markdown",
   "metadata": {},
   "source": [
    "Grab some quick metadata about these datasets from the registry before we clone them."
   ]
  },
  {
   "cell_type": "code",
   "execution_count": 3,
   "metadata": {},
   "outputs": [],
   "source": [
    "repo_metadata = []\n",
    "for dataset in dataset_queries:\n",
    "    repo = lookup_repository(dataset)\n",
    "    latest = repo.images[\"latest\"]\n",
    "    size = latest.get_size()\n",
    "    table = latest.get_tables()[0]\n",
    "    table_len = latest.get_table(table).get_length()\n",
    "    \n",
    "    repo_metadata.append((str(repo), table, pretty_size(size), table_len))"
   ]
  },
  {
   "cell_type": "code",
   "execution_count": 4,
   "metadata": {},
   "outputs": [
    {
     "data": {
      "text/html": [
       "<div>\n",
       "<style scoped>\n",
       "    .dataframe tbody tr th:only-of-type {\n",
       "        vertical-align: middle;\n",
       "    }\n",
       "\n",
       "    .dataframe tbody tr th {\n",
       "        vertical-align: top;\n",
       "    }\n",
       "\n",
       "    .dataframe thead th {\n",
       "        text-align: right;\n",
       "    }\n",
       "</style>\n",
       "<table border=\"1\" class=\"dataframe\">\n",
       "  <thead>\n",
       "    <tr style=\"text-align: right;\">\n",
       "      <th></th>\n",
       "      <th>Name</th>\n",
       "      <th>Table</th>\n",
       "      <th>Total size</th>\n",
       "      <th>Number of rows</th>\n",
       "    </tr>\n",
       "  </thead>\n",
       "  <tbody>\n",
       "    <tr>\n",
       "      <th>0</th>\n",
       "      <td>splitgraph/geonames</td>\n",
       "      <td>all_countries</td>\n",
       "      <td>539.95 MiB</td>\n",
       "      <td>11968169</td>\n",
       "    </tr>\n",
       "    <tr>\n",
       "      <th>1</th>\n",
       "      <td>splitgraph/2016_election</td>\n",
       "      <td>precinct_results</td>\n",
       "      <td>26.75 MiB</td>\n",
       "      <td>1989234</td>\n",
       "    </tr>\n",
       "    <tr>\n",
       "      <th>2</th>\n",
       "      <td>splitgraph/domestic_us_flights</td>\n",
       "      <td>flights</td>\n",
       "      <td>59.17 MiB</td>\n",
       "      <td>3606803</td>\n",
       "    </tr>\n",
       "    <tr>\n",
       "      <th>3</th>\n",
       "      <td>splitgraph/congress_tweets</td>\n",
       "      <td>tweets</td>\n",
       "      <td>439.24 MiB</td>\n",
       "      <td>2254156</td>\n",
       "    </tr>\n",
       "  </tbody>\n",
       "</table>\n",
       "</div>"
      ],
      "text/plain": [
       "                             Name             Table  Total size  \\\n",
       "0             splitgraph/geonames     all_countries  539.95 MiB   \n",
       "1        splitgraph/2016_election  precinct_results   26.75 MiB   \n",
       "2  splitgraph/domestic_us_flights           flights   59.17 MiB   \n",
       "3      splitgraph/congress_tweets            tweets  439.24 MiB   \n",
       "\n",
       "   Number of rows  \n",
       "0        11968169  \n",
       "1         1989234  \n",
       "2         3606803  \n",
       "3         2254156  "
      ]
     },
     "execution_count": 4,
     "metadata": {},
     "output_type": "execute_result"
    }
   ],
   "source": [
    "repo_df = pd.DataFrame(repo_metadata, columns=[\"Name\", \"Table\", \"Total size\", \"Number of rows\"])\n",
    "repo_df"
   ]
  },
  {
   "cell_type": "code",
   "execution_count": 5,
   "metadata": {},
   "outputs": [
    {
     "name": "stderr",
     "output_type": "stream",
     "text": [
      "100%|██████████| 1/1 [00:02<00:00,  2.45s/obj, object=ob4772e9a2...]\n"
     ]
    }
   ],
   "source": [
    "for dataset in dataset_queries:\n",
    "    clone(dataset, single_image=\"latest\", download_all=True)"
   ]
  },
  {
   "cell_type": "markdown",
   "metadata": {},
   "source": [
    "We'll run the following tests for these datasets:\n",
    "\n",
    "  * Run a sample query for each using layered querying\n",
    "  * Check them out into a real PostgreSQL schema\n",
    "  * Run the same sample query again\n",
    "  * Compare the size taken up by the dataset in Splitgraph vs. PostgreSQL table."
   ]
  },
  {
   "cell_type": "code",
   "execution_count": 6,
   "metadata": {},
   "outputs": [
    {
     "name": "stdout",
     "output_type": "stream",
     "text": [
      "Testing splitgraph/geonames\n",
      "Running LQ...\n",
      "Checking out splitgraph/geonames...\n"
     ]
    },
    {
     "name": "stderr",
     "output_type": "stream",
     "text": [
      "100%|██████████| 120/120 [13:55<00:00,  6.97s/obj, object=o357b469f4...]\n"
     ]
    },
    {
     "name": "stdout",
     "output_type": "stream",
     "text": [
      "Running query on PG...\n",
      "Testing splitgraph/2016_election\n",
      "Running LQ...\n",
      "Checking out splitgraph/2016_election...\n"
     ]
    },
    {
     "name": "stderr",
     "output_type": "stream",
     "text": [
      "100%|██████████| 20/20 [00:42<00:00,  2.13s/obj, object=o974b20261...]\n"
     ]
    },
    {
     "name": "stdout",
     "output_type": "stream",
     "text": [
      "Running query on PG...\n",
      "Testing splitgraph/domestic_us_flights\n",
      "Running LQ...\n",
      "Checking out splitgraph/domestic_us_flights...\n"
     ]
    },
    {
     "name": "stderr",
     "output_type": "stream",
     "text": [
      "100%|██████████| 73/73 [02:30<00:00,  2.07s/obj, object=oc5c37c5d2...]\n"
     ]
    },
    {
     "name": "stdout",
     "output_type": "stream",
     "text": [
      "Running query on PG...\n",
      "Testing splitgraph/congress_tweets\n",
      "Running LQ...\n",
      "Checking out splitgraph/congress_tweets...\n"
     ]
    },
    {
     "name": "stderr",
     "output_type": "stream",
     "text": [
      "100%|██████████| 85/85 [01:10<00:00,  1.21obj/s, object=ob4772e9a2...]\n"
     ]
    },
    {
     "name": "stdout",
     "output_type": "stream",
     "text": [
      "Running query on PG...\n"
     ]
    }
   ],
   "source": [
    "test_results = []\n",
    "for dataset, query in dataset_queries.items():\n",
    "    print(f\"Testing {dataset}\")\n",
    "    repo = Repository.from_schema(dataset)\n",
    "    latest = repo.images[\"latest\"]\n",
    "    sg_size = latest.get_size()\n",
    "    table = latest.get_tables()[0]\n",
    "    \n",
    "    iterations = 20\n",
    "    \n",
    "    print(f\"Running LQ...\")\n",
    "    # Run the sample query via LQ\n",
    "    with latest.query_schema() as s:\n",
    "        # Run the query once for warmup\n",
    "        repo.object_engine.run_sql_in(s, query)\n",
    "        tracer = Tracer()\n",
    "        for _ in range(iterations):\n",
    "            repo.object_engine.run_sql_in(s, query)\n",
    "        tracer.log(\"run_lq\")\n",
    "    print(f\"Checking out {dataset}...\")\n",
    "    \n",
    "    repo.rollback_engines()\n",
    "    \n",
    "    # Check the dataset out\n",
    "    latest.checkout()\n",
    "    \n",
    "    # Get the table size in PG\n",
    "    pg_size = repo.object_engine.run_sql(\"SELECT pg_total_relation_size(%s)\",\n",
    "                          ('\"' + repo.to_schema() + '\".' + table,),\n",
    "                          return_shape=ResultShape.ONE_ONE)\n",
    "    \n",
    "    # Run the query against PG directly\n",
    "    print(f\"Running query on PG...\")\n",
    "    # Run once for warmup.\n",
    "    repo.run_sql(query)\n",
    "    tracer.log(\"checkout\")\n",
    "    for _ in range(iterations):\n",
    "        repo.run_sql(query)\n",
    "\n",
    "    tracer.log(\"run_pg\")\n",
    "    \n",
    "    events = dict(tracer.get_durations())\n",
    "    test_results.append({\"Dataset\": dataset, \"Query\": query, \n",
    "                         \"Size in Splitgraph\": sg_size, \"Size in PostgreSQL\": pg_size, \n",
    "                         \"Query time (LQ)\": events[\"run_lq\"] / iterations,\n",
    "                         \"Query time (PG)\": events[\"run_pg\"] / iterations\n",
    "                        })\n",
    "    \n",
    "    repo.uncheckout(force=True)\n",
    "    repo.rollback_engines()\n"
   ]
  },
  {
   "cell_type": "code",
   "execution_count": 7,
   "metadata": {},
   "outputs": [
    {
     "data": {
      "text/html": [
       "<div>\n",
       "<style scoped>\n",
       "    .dataframe tbody tr th:only-of-type {\n",
       "        vertical-align: middle;\n",
       "    }\n",
       "\n",
       "    .dataframe tbody tr th {\n",
       "        vertical-align: top;\n",
       "    }\n",
       "\n",
       "    .dataframe thead th {\n",
       "        text-align: right;\n",
       "    }\n",
       "</style>\n",
       "<table border=\"1\" class=\"dataframe\">\n",
       "  <thead>\n",
       "    <tr style=\"text-align: right;\">\n",
       "      <th></th>\n",
       "      <th>Dataset</th>\n",
       "      <th>Query</th>\n",
       "      <th>Size in Splitgraph</th>\n",
       "      <th>Size in PostgreSQL</th>\n",
       "      <th>Query time (LQ)</th>\n",
       "      <th>Query time (PG)</th>\n",
       "    </tr>\n",
       "  </thead>\n",
       "  <tbody>\n",
       "    <tr>\n",
       "      <th>0</th>\n",
       "      <td>splitgraph/geonames</td>\n",
       "      <td>SELECT * FROM all_countries WHERE asciiname = ...</td>\n",
       "      <td>539.95 MiB</td>\n",
       "      <td>2.07 GiB</td>\n",
       "      <td>0.763744</td>\n",
       "      <td>1.883223</td>\n",
       "    </tr>\n",
       "    <tr>\n",
       "      <th>1</th>\n",
       "      <td>splitgraph/2016_election</td>\n",
       "      <td>SELECT candidate_normalized, SUM(votes) FROM p...</td>\n",
       "      <td>26.81 MiB</td>\n",
       "      <td>551.18 MiB</td>\n",
       "      <td>0.207554</td>\n",
       "      <td>0.304762</td>\n",
       "    </tr>\n",
       "    <tr>\n",
       "      <th>2</th>\n",
       "      <td>splitgraph/domestic_us_flights</td>\n",
       "      <td>SELECT fly_month, origin_airport, SUM(passenge...</td>\n",
       "      <td>59.17 MiB</td>\n",
       "      <td>448.27 MiB</td>\n",
       "      <td>0.698373</td>\n",
       "      <td>0.622456</td>\n",
       "    </tr>\n",
       "    <tr>\n",
       "      <th>3</th>\n",
       "      <td>splitgraph/congress_tweets</td>\n",
       "      <td>SELECT screen_name, COUNT(1) FROM tweets WHERE...</td>\n",
       "      <td>439.24 MiB</td>\n",
       "      <td>1.02 GiB</td>\n",
       "      <td>0.329205</td>\n",
       "      <td>0.407519</td>\n",
       "    </tr>\n",
       "  </tbody>\n",
       "</table>\n",
       "</div>"
      ],
      "text/plain": [
       "                          Dataset  \\\n",
       "0             splitgraph/geonames   \n",
       "1        splitgraph/2016_election   \n",
       "2  splitgraph/domestic_us_flights   \n",
       "3      splitgraph/congress_tweets   \n",
       "\n",
       "                                               Query Size in Splitgraph  \\\n",
       "0  SELECT * FROM all_countries WHERE asciiname = ...         539.95 MiB   \n",
       "1  SELECT candidate_normalized, SUM(votes) FROM p...          26.81 MiB   \n",
       "2  SELECT fly_month, origin_airport, SUM(passenge...          59.17 MiB   \n",
       "3  SELECT screen_name, COUNT(1) FROM tweets WHERE...         439.24 MiB   \n",
       "\n",
       "  Size in PostgreSQL  Query time (LQ)  Query time (PG)  \n",
       "0           2.07 GiB         0.763744         1.883223  \n",
       "1         551.18 MiB         0.207554         0.304762  \n",
       "2         448.27 MiB         0.698373         0.622456  \n",
       "3           1.02 GiB         0.329205         0.407519  "
      ]
     },
     "execution_count": 7,
     "metadata": {},
     "output_type": "execute_result"
    }
   ],
   "source": [
    "test_results_df = pd.DataFrame(test_results)\n",
    "test_results_df_pretty = test_results_df.copy()\n",
    "test_results_df_pretty[\"Size in Splitgraph\"] = test_results_df_pretty[\"Size in Splitgraph\"].apply(pretty_size)\n",
    "test_results_df_pretty[\"Size in PostgreSQL\"] = test_results_df_pretty[\"Size in PostgreSQL\"].apply(pretty_size)\n",
    "test_results_df_pretty"
   ]
  },
  {
   "cell_type": "code",
   "execution_count": 8,
   "metadata": {},
   "outputs": [
    {
     "data": {
      "text/plain": [
       "Text(0.5, 1.0, 'Sample query performance on real-world datasets')"
      ]
     },
     "execution_count": 8,
     "metadata": {},
     "output_type": "execute_result"
    },
    {
     "data": {
      "image/png": "[encoded data removed]",
      "text/plain": [
       "<Figure size 898.6x360 with 1 Axes>"
      ]
     },
     "metadata": {},
     "output_type": "display_data"
    }
   ],
   "source": [
    "# Plot the results\n",
    "query_time_df = test_results_df[[\"Dataset\", \"Query time (PG)\", \"Query time (LQ)\"]]\n",
    "query_time_df.columns = [\"Dataset\", \"Querying native PG table\", \"Layered querying\"]\n",
    "\n",
    "query_time_df = pd.melt(query_time_df, id_vars=\"Dataset\", var_name=\"Query method\", value_name=\"Time, s\")\n",
    "sns.catplot(data=query_time_df, x=\"Dataset\", y=\"Time, s\", hue=\"Query method\", kind=\"bar\", height=5, aspect=2)\n",
    "plt.yscale(\"linear\")\n",
    "plt.title(\"Sample query performance on real-world datasets\")"
   ]
  },
  {
   "cell_type": "code",
   "execution_count": 9,
   "metadata": {},
   "outputs": [
    {
     "data": {
      "text/plain": [
       "Text(0.5, 1.0, 'Sample storage costs of real-world datasets')"
      ]
     },
     "execution_count": 9,
     "metadata": {},
     "output_type": "execute_result"
    },
    {
     "data": {
      "image/png": "[encoded data removed]",
      "text/plain": [
       "<Figure size 860.1x360 with 1 Axes>"
      ]
     },
     "metadata": {},
     "output_type": "display_data"
    }
   ],
   "source": [
    "size_df = pd.DataFrame()\n",
    "size_df[\"Dataset\"] = test_results_df[\"Dataset\"]\n",
    "size_df[\"PostgreSQL table\"] = test_results_df[\"Size in PostgreSQL\"] / 1024. / 1024.\n",
    "size_df[\"Splitgraph objects\"] = test_results_df[\"Size in Splitgraph\"] / 1024. / 1024.\n",
    "\n",
    "size_df = pd.melt(size_df, id_vars=\"Dataset\", var_name=\"Storage\", value_name=\"Size, MB\")\n",
    "sns.catplot(data=size_df, x=\"Dataset\", y=\"Size, MB\", hue=\"Storage\", kind=\"bar\", height=5, aspect=2)\n",
    "plt.yscale(\"linear\")\n",
    "plt.title(\"Sample storage costs of real-world datasets\")"
   ]
  },
  {
   "cell_type": "markdown",
   "metadata": {},
   "source": [
    "On real-world datasets, Splitgraph's layered querying can sometimes beat PostgreSQL's performance. This is usually due to two reasons:\n",
    "\n",
    "  * Splitgraph has its own high-level indexing that allows it to not scan through fragments that aren't pertinent to the query. Layered querying cheats a bit here, since the PostgreSQL tables in this benchmark don't have any indexes at all (apart for the primary key constraint), but indexes used by Splitgraph are tiny (at most a hundred kilobytes per fragment) compared to PostgreSQL.\n",
    "  * For its object storage backend, Splitgraph uses [`cstore_fdw`](https://github.com/citusdata/cstore_fdw), a columnar datastore extension for PostgreSQL. Especially in real-world datasets where a lot of columns have long runs of similar or same values, this results in data stored in Splitgraph being much smaller than when it's checked out into a PostgreSQL table. With less data to process, full table scans can be faster in `cstore_fdw` and have less IO load than full scans through PostgreSQL tables.\n",
    "    * As an example, the `splitgraph/2016_election` dataset is about 20x smaller when stored as Splitgraph objects than when it's checked out. This is because it's a very wide dataset (36 columns) with a lot of values being the same (empty or with zeros). PostgreSQL tuples still need to allocate some space to those values, whereas in `cstore_fdw` files these columns can get compressed to much smaller sizes.\n",
    "\n",
    "The best performance for a single kind of query is always going to be achieved with a PostgreSQL table and specially tuned indexes. However, layered querying is perfect for exploratory and analytical workloads, given its good-enough performance even for queries that require full table scans and the ability to lazily query a huge remote dataset by only downloading a few fragments and without checking the dataset out."
   ]
  }
 ],
 "metadata": {
  "kernelspec": {
   "display_name": "Python 3",
   "language": "python",
   "name": "python3"
  },
  "language_info": {
   "codemirror_mode": {
    "name": "ipython",
    "version": 3
   },
   "file_extension": ".py",
   "mimetype": "text/x-python",
   "name": "python",
   "nbconvert_exporter": "python",
   "pygments_lexer": "ipython3",
   "version": "3.8.1"
  }
 },
 "nbformat": 4,
 "nbformat_minor": 2
}
