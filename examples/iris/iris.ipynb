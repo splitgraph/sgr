{
 "cells": [
  {
   "cell_type": "code",
   "execution_count": 1,
   "metadata": {},
   "outputs": [],
   "source": [
    "import itertools\n",
    "import random\n",
    "\n",
    "import pandas as pd\n",
    "from sklearn import linear_model\n",
    "\n",
    "from splitgraph.core.repository import Repository\n",
    "from splitgraph.engine import ResultShape\n",
    "from splitgraph.ingestion.pandas import df_to_table, sql_to_df\n",
    "\n",
    "PATH = \"./iris.csv\""
   ]
  },
  {
   "cell_type": "code",
   "execution_count": 2,
   "metadata": {},
   "outputs": [
    {
     "data": {
      "text/html": [
       "<div>\n",
       "<style scoped>\n",
       "    .dataframe tbody tr th:only-of-type {\n",
       "        vertical-align: middle;\n",
       "    }\n",
       "\n",
       "    .dataframe tbody tr th {\n",
       "        vertical-align: top;\n",
       "    }\n",
       "\n",
       "    .dataframe thead th {\n",
       "        text-align: right;\n",
       "    }\n",
       "</style>\n",
       "<table border=\"1\" class=\"dataframe\">\n",
       "  <thead>\n",
       "    <tr style=\"text-align: right;\">\n",
       "      <th></th>\n",
       "      <th>sepal_length</th>\n",
       "      <th>sepal_width</th>\n",
       "      <th>petal_length</th>\n",
       "      <th>petal_width</th>\n",
       "      <th>class</th>\n",
       "    </tr>\n",
       "    <tr>\n",
       "      <th>id</th>\n",
       "      <th></th>\n",
       "      <th></th>\n",
       "      <th></th>\n",
       "      <th></th>\n",
       "      <th></th>\n",
       "    </tr>\n",
       "  </thead>\n",
       "  <tbody>\n",
       "    <tr>\n",
       "      <td>0</td>\n",
       "      <td>5.1</td>\n",
       "      <td>3.5</td>\n",
       "      <td>1.4</td>\n",
       "      <td>0.2</td>\n",
       "      <td>Iris-setosa</td>\n",
       "    </tr>\n",
       "    <tr>\n",
       "      <td>1</td>\n",
       "      <td>4.9</td>\n",
       "      <td>3.0</td>\n",
       "      <td>1.4</td>\n",
       "      <td>0.2</td>\n",
       "      <td>Iris-setosa</td>\n",
       "    </tr>\n",
       "    <tr>\n",
       "      <td>2</td>\n",
       "      <td>4.7</td>\n",
       "      <td>3.2</td>\n",
       "      <td>1.3</td>\n",
       "      <td>0.2</td>\n",
       "      <td>Iris-setosa</td>\n",
       "    </tr>\n",
       "    <tr>\n",
       "      <td>3</td>\n",
       "      <td>4.6</td>\n",
       "      <td>3.1</td>\n",
       "      <td>1.5</td>\n",
       "      <td>0.2</td>\n",
       "      <td>Iris-setosa</td>\n",
       "    </tr>\n",
       "    <tr>\n",
       "      <td>4</td>\n",
       "      <td>5.0</td>\n",
       "      <td>3.6</td>\n",
       "      <td>1.4</td>\n",
       "      <td>0.2</td>\n",
       "      <td>Iris-setosa</td>\n",
       "    </tr>\n",
       "    <tr>\n",
       "      <td>...</td>\n",
       "      <td>...</td>\n",
       "      <td>...</td>\n",
       "      <td>...</td>\n",
       "      <td>...</td>\n",
       "      <td>...</td>\n",
       "    </tr>\n",
       "    <tr>\n",
       "      <td>145</td>\n",
       "      <td>6.7</td>\n",
       "      <td>3.0</td>\n",
       "      <td>5.2</td>\n",
       "      <td>2.3</td>\n",
       "      <td>Iris-virginica</td>\n",
       "    </tr>\n",
       "    <tr>\n",
       "      <td>146</td>\n",
       "      <td>6.3</td>\n",
       "      <td>2.5</td>\n",
       "      <td>5.0</td>\n",
       "      <td>1.9</td>\n",
       "      <td>Iris-virginica</td>\n",
       "    </tr>\n",
       "    <tr>\n",
       "      <td>147</td>\n",
       "      <td>6.5</td>\n",
       "      <td>3.0</td>\n",
       "      <td>5.2</td>\n",
       "      <td>2.0</td>\n",
       "      <td>Iris-virginica</td>\n",
       "    </tr>\n",
       "    <tr>\n",
       "      <td>148</td>\n",
       "      <td>6.2</td>\n",
       "      <td>3.4</td>\n",
       "      <td>5.4</td>\n",
       "      <td>2.3</td>\n",
       "      <td>Iris-virginica</td>\n",
       "    </tr>\n",
       "    <tr>\n",
       "      <td>149</td>\n",
       "      <td>5.9</td>\n",
       "      <td>3.0</td>\n",
       "      <td>5.1</td>\n",
       "      <td>1.8</td>\n",
       "      <td>Iris-virginica</td>\n",
       "    </tr>\n",
       "  </tbody>\n",
       "</table>\n",
       "<p>150 rows × 5 columns</p>\n",
       "</div>"
      ],
      "text/plain": [
       "     sepal_length  sepal_width  petal_length  petal_width           class\n",
       "id                                                                       \n",
       "0             5.1          3.5           1.4          0.2     Iris-setosa\n",
       "1             4.9          3.0           1.4          0.2     Iris-setosa\n",
       "2             4.7          3.2           1.3          0.2     Iris-setosa\n",
       "3             4.6          3.1           1.5          0.2     Iris-setosa\n",
       "4             5.0          3.6           1.4          0.2     Iris-setosa\n",
       "..            ...          ...           ...          ...             ...\n",
       "145           6.7          3.0           5.2          2.3  Iris-virginica\n",
       "146           6.3          2.5           5.0          1.9  Iris-virginica\n",
       "147           6.5          3.0           5.2          2.0  Iris-virginica\n",
       "148           6.2          3.4           5.4          2.3  Iris-virginica\n",
       "149           5.9          3.0           5.1          1.8  Iris-virginica\n",
       "\n",
       "[150 rows x 5 columns]"
      ]
     },
     "execution_count": 2,
     "metadata": {},
     "output_type": "execute_result"
    }
   ],
   "source": [
    "def load_dataset():\n",
    "    \"\"\"Loads the Iris dataset from CSV\"\"\"\n",
    "    data = pd.read_csv(PATH,\n",
    "                      names=['sepal_length', 'sepal_width',\n",
    "                             'petal_length', 'petal_width', 'class'])\n",
    "    data.index.names = [\"id\"]\n",
    "    return data\n",
    "\n",
    "iris = load_dataset()\n",
    "iris"
   ]
  },
  {
   "cell_type": "code",
   "execution_count": 3,
   "metadata": {},
   "outputs": [],
   "source": [
    "# Initialize an empty Splitgraph repository and insert data into a staging area.\n",
    "\n",
    "dataset = Repository(\"uciml\", \"iris\")\n",
    "dataset.delete()\n",
    "dataset.objects.cleanup()\n",
    "dataset.init()\n",
    "\n",
    "df_to_table(iris, repository=dataset, table=\"data\")"
   ]
  },
  {
   "cell_type": "code",
   "execution_count": 4,
   "metadata": {},
   "outputs": [
    {
     "name": "stderr",
     "output_type": "stream",
     "text": [
      "2019-09-10 14:44:33,882 [15214] INFO Committing uciml/iris...\n",
      "2019-09-10 14:44:33,921 [15214] INFO Using temporary table o1af36270e197e18c0f80db369721dc77e69bb2f310c87604fe59d1bc50f263 for uciml/iris/data limit 10000 after_pk None\n"
     ]
    },
    {
     "name": "stdout",
     "output_type": "stream",
     "text": [
      "Image(image_hash='703b3969c678ae51994d8e01897f7ef7ccb8b23bf199094a129a9fbbbb6e03a0', parent_id='0000000000000000000000000000000000000000000000000000000000000000', created=datetime.datetime(2019, 9, 10, 14, 44, 33, 908357), comment=None, provenance_type=None, provenance_data=None, repository=Repository uciml/iris on LOCAL (object engine LOCAL), engine=PostgresEngine LOCAL (sgr@localhost:5432/splitgraph), object_engine=PostgresEngine LOCAL (sgr@localhost:5432/splitgraph))\n",
      "['data']\n"
     ]
    }
   ],
   "source": [
    "# Commit the repository as a new image and give it a tag.\n",
    "\n",
    "base_image = dataset.commit()\n",
    "base_image.tag(\"base\")\n",
    "\n",
    "print(base_image)\n",
    "print(base_image.get_tables())"
   ]
  },
  {
   "cell_type": "code",
   "execution_count": 5,
   "metadata": {},
   "outputs": [
    {
     "name": "stderr",
     "output_type": "stream",
     "text": [
      "2019-09-10 14:44:34,142 [15214] INFO Committing uciml/iris...\n"
     ]
    }
   ],
   "source": [
    "# Generate a training/validation dataset by splitting the dataset in two\n",
    "\n",
    "all_ids = dataset.run_sql(\"SELECT id FROM data\",\n",
    "                          return_shape=ResultShape.MANY_ONE)\n",
    "validation_ids = random.sample(all_ids, len(all_ids) // 2)\n",
    "\n",
    "dataset.run_sql(\"DELETE FROM data WHERE id IN (\" \n",
    "                + \",\".join(itertools.repeat(\"%s\", len(validation_ids))) + \")\",\n",
    "               validation_ids)\n",
    "training_image = dataset.commit()\n",
    "training_image.tag(\"training\")"
   ]
  },
  {
   "cell_type": "code",
   "execution_count": 6,
   "metadata": {},
   "outputs": [
    {
     "name": "stderr",
     "output_type": "stream",
     "text": [
      "2019-09-10 14:44:34,410 [15214] INFO Using cached objects list\n",
      "2019-09-10 14:44:34,412 [15214] INFO Claiming 1 object(s)\n",
      "2019-09-10 14:44:34,420 [15214] INFO Yielding to the caller\n",
      "2019-09-10 14:44:34,484 [15214] INFO Applying 1 fragment(s)...\n",
      "2019-09-10 14:44:34,502 [15214] INFO Releasing 1 object(s)\n",
      "2019-09-10 14:44:34,504 [15214] INFO Timing stats for uciml/iris/703b3969c678ae51994d8e01897f7ef7ccb8b23bf199094a129a9fbbbb6e03a0/data: \n",
      "claim_objects: 0.008\n",
      "prepare_fetch_list: 0.001\n",
      "fetch_objects: 0.000\n",
      "caller: 0.078\n",
      "release_objects: 0.004\n",
      "Total: 0.092\n",
      "2019-09-10 14:44:34,549 [15214] INFO Committing uciml/iris...\n"
     ]
    }
   ],
   "source": [
    "base_image.checkout()\n",
    "dataset.run_sql(\"DELETE FROM data WHERE id NOT IN (\" \n",
    "                + \",\".join(itertools.repeat(\"%s\", len(validation_ids))) + \")\",\n",
    "               validation_ids)\n",
    "validation_image = dataset.commit()\n",
    "validation_image.tag(\"validation\")"
   ]
  },
  {
   "cell_type": "code",
   "execution_count": 7,
   "metadata": {},
   "outputs": [],
   "source": [
    "def load_dataset_from_sg(image):\n",
    "    # This uses layered querying, which is a way to run read-only queries on\n",
    "    # Splitgraph images without checking them out.\n",
    "    data = sql_to_df(\"SELECT sepal_length, sepal_width, class FROM data\",\n",
    "                     image=image, use_lq=True)\n",
    "    X = data.values.T[:2].T\n",
    "    Y = data.values.T[2].T\n",
    "    \n",
    "    return X, Y\n",
    "\n",
    "\n",
    "def train_model(image):\n",
    "    # Train model on the data in a Splitgraph image\n",
    "    X, Y = load_dataset_from_sg(image)\n",
    "    model = linear_model.LogisticRegression(C=1e5, solver=\"lbfgs\", multi_class=\"auto\")\n",
    "    model.fit(X, Y)\n",
    "    return model\n",
    "\n",
    "\n",
    "def test_model(model, image):\n",
    "    # Test model on the data in a Splitgraph image\n",
    "    X, Y = load_dataset_from_sg(image)\n",
    "    return model.score(X, Y)"
   ]
  },
  {
   "cell_type": "code",
   "execution_count": 8,
   "metadata": {},
   "outputs": [
    {
     "name": "stderr",
     "output_type": "stream",
     "text": [
      "2019-09-10 14:44:35,271 [15214] INFO Mounting uciml/iris:24ec6137495fb686568dfa1e0fe52976fa0b44360fa8b8d5d358a082f78d6b71/data into o042f4630863d8afcf239e7bd6d9be118\n",
      "2019-09-10 14:44:36,038 [15214] INFO Mounting uciml/iris:3589185050e1ecdb9eac2ba952b474689faa6fadd4f4ec4719006339708417d5/data into o6d82d5b77888106d67abd9167737a1e3\n",
      "2019-09-10 14:44:36,743 [15214] INFO Mounting uciml/iris:24ec6137495fb686568dfa1e0fe52976fa0b44360fa8b8d5d358a082f78d6b71/data into o032dfc13f2d87260f66e95200361556f\n",
      "2019-09-10 14:44:37,448 [15214] INFO Mounting uciml/iris:703b3969c678ae51994d8e01897f7ef7ccb8b23bf199094a129a9fbbbb6e03a0/data into o09959c045c594280d7c1aa697a004eeb\n"
     ]
    },
    {
     "name": "stdout",
     "output_type": "stream",
     "text": [
      "======= Scores: =======\n",
      "Training dataset: 0.88\n",
      "Test dataset: 0.76\n",
      "Full dataset: 0.82\n"
     ]
    }
   ],
   "source": [
    "# We can now easily switch between different datasets to train and validate our model.\n",
    "# In this case, we train it on half of the data and then check its score\n",
    "# on the other half.\n",
    "\n",
    "model = train_model(dataset.images[\"training\"])\n",
    "\n",
    "val_score = test_model(model, dataset.images[\"validation\"])\n",
    "train_score = test_model(model, dataset.images[\"training\"])\n",
    "full_score = test_model(model, dataset.images[\"base\"])\n",
    "\n",
    "print(\"======= Scores: =======\")\n",
    "print(\"Training dataset: %.2f\\nTest dataset: %.2f\\nFull dataset: %.2f\" \\\n",
    "     % (train_score, val_score, full_score))\n"
   ]
  }
 ],
 "metadata": {
  "kernelspec": {
   "display_name": "Python 3",
   "language": "python",
   "name": "python3"
  },
  "language_info": {
   "codemirror_mode": {
    "name": "ipython",
    "version": 3
   },
   "file_extension": ".py",
   "mimetype": "text/x-python",
   "name": "python",
   "nbconvert_exporter": "python",
   "pygments_lexer": "ipython3",
   "version": "3.8.1"
  }
 },
 "nbformat": 4,
 "nbformat_minor": 2
}
